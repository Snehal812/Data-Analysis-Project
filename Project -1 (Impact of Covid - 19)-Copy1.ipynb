{
 "cells": [
  {
   "cell_type": "markdown",
   "id": "087c0fa2",
   "metadata": {},
   "source": [
    "# Impact of COVID-19 on Students- EDA"
   ]
  },
  {
   "cell_type": "markdown",
   "id": "502f2508",
   "metadata": {},
   "source": [
    "## About data set :\n",
    "COVID-19 has brough the whole world at standstill.The economy drop, many people are getting jobless and many dangerous impacts have been seen due to the affect of Pandemic. There is another domain which are heavliy affected by it i.e the Students Life due to COVID-19."
   ]
  },
  {
   "cell_type": "markdown",
   "id": "9e4abde2",
   "metadata": {},
   "source": [
    "## Problem Statement :\n",
    " - Students lifestyle has changed dramatically.\n",
    " - Many students are having stress,health and weight issues dure to this Pandemic.Here we are trying to understand the impact of    COVID-19 on students based on a small data with few samples."
   ]
  },
  {
   "cell_type": "markdown",
   "id": "ac7d634f",
   "metadata": {},
   "source": [
    "## Import the necessary libraries."
   ]
  },
  {
   "cell_type": "code",
   "execution_count": 1,
   "id": "a2009978",
   "metadata": {},
   "outputs": [],
   "source": [
    "import pandas as pd\n",
    "import numpy as np\n",
    "import warnings\n",
    "warnings.filterwarnings(\"ignore\")\n",
    "import matplotlib.pyplot as plt\n",
    "import seaborn as sns"
   ]
  },
  {
   "cell_type": "markdown",
   "id": "69b4d9f8",
   "metadata": {},
   "source": [
    "### Read dataset"
   ]
  },
  {
   "cell_type": "code",
   "execution_count": 2,
   "id": "0406dd61",
   "metadata": {},
   "outputs": [],
   "source": [
    "df = pd.read_csv(\"COVID-19 Survey Student Responses.csv\")"
   ]
  },
  {
   "cell_type": "code",
   "execution_count": 3,
   "id": "c19372e0",
   "metadata": {},
   "outputs": [
    {
     "data": {
      "text/html": [
       "<div>\n",
       "<style scoped>\n",
       "    .dataframe tbody tr th:only-of-type {\n",
       "        vertical-align: middle;\n",
       "    }\n",
       "\n",
       "    .dataframe tbody tr th {\n",
       "        vertical-align: top;\n",
       "    }\n",
       "\n",
       "    .dataframe thead th {\n",
       "        text-align: right;\n",
       "    }\n",
       "</style>\n",
       "<table border=\"1\" class=\"dataframe\">\n",
       "  <thead>\n",
       "    <tr style=\"text-align: right;\">\n",
       "      <th></th>\n",
       "      <th>ID</th>\n",
       "      <th>Region of residence</th>\n",
       "      <th>Age of Subject</th>\n",
       "      <th>Time spent on Online Class</th>\n",
       "      <th>Rating of Online Class experience</th>\n",
       "      <th>Medium for online class</th>\n",
       "      <th>Time spent on self study</th>\n",
       "      <th>Time spent on fitness</th>\n",
       "      <th>Time spent on sleep</th>\n",
       "      <th>Time spent on social media</th>\n",
       "      <th>Prefered social media platform</th>\n",
       "      <th>Time spent on TV</th>\n",
       "      <th>Number of meals per day</th>\n",
       "      <th>Change in your weight</th>\n",
       "      <th>Health issue during lockdown</th>\n",
       "      <th>Stress busters</th>\n",
       "      <th>Time utilized</th>\n",
       "      <th>Do you find yourself more connected with your family, close friends , relatives  ?</th>\n",
       "      <th>What you miss the most</th>\n",
       "    </tr>\n",
       "  </thead>\n",
       "  <tbody>\n",
       "    <tr>\n",
       "      <th>0</th>\n",
       "      <td>R1</td>\n",
       "      <td>Delhi-NCR</td>\n",
       "      <td>21</td>\n",
       "      <td>2.0</td>\n",
       "      <td>Good</td>\n",
       "      <td>Laptop/Desktop</td>\n",
       "      <td>4.0</td>\n",
       "      <td>0.0</td>\n",
       "      <td>7.0</td>\n",
       "      <td>3.0</td>\n",
       "      <td>Linkedin</td>\n",
       "      <td>1</td>\n",
       "      <td>4</td>\n",
       "      <td>Increased</td>\n",
       "      <td>NO</td>\n",
       "      <td>Cooking</td>\n",
       "      <td>YES</td>\n",
       "      <td>YES</td>\n",
       "      <td>School/college</td>\n",
       "    </tr>\n",
       "    <tr>\n",
       "      <th>1</th>\n",
       "      <td>R2</td>\n",
       "      <td>Delhi-NCR</td>\n",
       "      <td>21</td>\n",
       "      <td>0.0</td>\n",
       "      <td>Excellent</td>\n",
       "      <td>Smartphone</td>\n",
       "      <td>0.0</td>\n",
       "      <td>2.0</td>\n",
       "      <td>10.0</td>\n",
       "      <td>3.0</td>\n",
       "      <td>Youtube</td>\n",
       "      <td>0</td>\n",
       "      <td>3</td>\n",
       "      <td>Decreased</td>\n",
       "      <td>NO</td>\n",
       "      <td>Scrolling through social media</td>\n",
       "      <td>YES</td>\n",
       "      <td>NO</td>\n",
       "      <td>Roaming around freely</td>\n",
       "    </tr>\n",
       "    <tr>\n",
       "      <th>2</th>\n",
       "      <td>R3</td>\n",
       "      <td>Delhi-NCR</td>\n",
       "      <td>20</td>\n",
       "      <td>7.0</td>\n",
       "      <td>Very poor</td>\n",
       "      <td>Laptop/Desktop</td>\n",
       "      <td>3.0</td>\n",
       "      <td>0.0</td>\n",
       "      <td>6.0</td>\n",
       "      <td>2.0</td>\n",
       "      <td>Linkedin</td>\n",
       "      <td>0</td>\n",
       "      <td>3</td>\n",
       "      <td>Remain Constant</td>\n",
       "      <td>NO</td>\n",
       "      <td>Listening to music</td>\n",
       "      <td>NO</td>\n",
       "      <td>YES</td>\n",
       "      <td>Travelling</td>\n",
       "    </tr>\n",
       "    <tr>\n",
       "      <th>3</th>\n",
       "      <td>R4</td>\n",
       "      <td>Delhi-NCR</td>\n",
       "      <td>20</td>\n",
       "      <td>3.0</td>\n",
       "      <td>Very poor</td>\n",
       "      <td>Smartphone</td>\n",
       "      <td>2.0</td>\n",
       "      <td>1.0</td>\n",
       "      <td>6.0</td>\n",
       "      <td>5.0</td>\n",
       "      <td>Instagram</td>\n",
       "      <td>0</td>\n",
       "      <td>3</td>\n",
       "      <td>Decreased</td>\n",
       "      <td>NO</td>\n",
       "      <td>Watching web series</td>\n",
       "      <td>NO</td>\n",
       "      <td>NO</td>\n",
       "      <td>Friends , relatives</td>\n",
       "    </tr>\n",
       "    <tr>\n",
       "      <th>4</th>\n",
       "      <td>R5</td>\n",
       "      <td>Delhi-NCR</td>\n",
       "      <td>21</td>\n",
       "      <td>3.0</td>\n",
       "      <td>Good</td>\n",
       "      <td>Laptop/Desktop</td>\n",
       "      <td>3.0</td>\n",
       "      <td>1.0</td>\n",
       "      <td>8.0</td>\n",
       "      <td>3.0</td>\n",
       "      <td>Instagram</td>\n",
       "      <td>1</td>\n",
       "      <td>4</td>\n",
       "      <td>Remain Constant</td>\n",
       "      <td>NO</td>\n",
       "      <td>Social Media</td>\n",
       "      <td>NO</td>\n",
       "      <td>NO</td>\n",
       "      <td>Travelling</td>\n",
       "    </tr>\n",
       "    <tr>\n",
       "      <th>5</th>\n",
       "      <td>R6</td>\n",
       "      <td>Delhi-NCR</td>\n",
       "      <td>21</td>\n",
       "      <td>0.0</td>\n",
       "      <td>Very poor</td>\n",
       "      <td>Smartphone</td>\n",
       "      <td>6.0</td>\n",
       "      <td>0.0</td>\n",
       "      <td>5.0</td>\n",
       "      <td>1.0</td>\n",
       "      <td>Youtube</td>\n",
       "      <td>0</td>\n",
       "      <td>1</td>\n",
       "      <td>Decreased</td>\n",
       "      <td>YES</td>\n",
       "      <td>Coding and studying for exams</td>\n",
       "      <td>NO</td>\n",
       "      <td>YES</td>\n",
       "      <td>School/college</td>\n",
       "    </tr>\n",
       "    <tr>\n",
       "      <th>6</th>\n",
       "      <td>R7</td>\n",
       "      <td>Delhi-NCR</td>\n",
       "      <td>19</td>\n",
       "      <td>2.0</td>\n",
       "      <td>Very poor</td>\n",
       "      <td>Smartphone</td>\n",
       "      <td>2.0</td>\n",
       "      <td>1.0</td>\n",
       "      <td>5.0</td>\n",
       "      <td>4.0</td>\n",
       "      <td>Instagram</td>\n",
       "      <td>0</td>\n",
       "      <td>3</td>\n",
       "      <td>Increased</td>\n",
       "      <td>NO</td>\n",
       "      <td>Watching web series</td>\n",
       "      <td>NO</td>\n",
       "      <td>YES</td>\n",
       "      <td>Friends , relatives</td>\n",
       "    </tr>\n",
       "    <tr>\n",
       "      <th>7</th>\n",
       "      <td>R8</td>\n",
       "      <td>Outside Delhi-NCR</td>\n",
       "      <td>19</td>\n",
       "      <td>2.0</td>\n",
       "      <td>Very poor</td>\n",
       "      <td>Tablet</td>\n",
       "      <td>1.0</td>\n",
       "      <td>1.0</td>\n",
       "      <td>10.0</td>\n",
       "      <td>5.0</td>\n",
       "      <td>Instagram</td>\n",
       "      <td>0</td>\n",
       "      <td>3</td>\n",
       "      <td>Increased</td>\n",
       "      <td>YES</td>\n",
       "      <td>Scrolling through social media</td>\n",
       "      <td>NO</td>\n",
       "      <td>YES</td>\n",
       "      <td>Eating outside</td>\n",
       "    </tr>\n",
       "    <tr>\n",
       "      <th>8</th>\n",
       "      <td>R9</td>\n",
       "      <td>Delhi-NCR</td>\n",
       "      <td>21</td>\n",
       "      <td>3.0</td>\n",
       "      <td>Very poor</td>\n",
       "      <td>Laptop/Desktop</td>\n",
       "      <td>4.0</td>\n",
       "      <td>1.0</td>\n",
       "      <td>8.0</td>\n",
       "      <td>2.0</td>\n",
       "      <td>Whatsapp</td>\n",
       "      <td>1</td>\n",
       "      <td>3</td>\n",
       "      <td>Increased</td>\n",
       "      <td>NO</td>\n",
       "      <td>Online surfing</td>\n",
       "      <td>NO</td>\n",
       "      <td>NO</td>\n",
       "      <td>Friends , relatives</td>\n",
       "    </tr>\n",
       "    <tr>\n",
       "      <th>9</th>\n",
       "      <td>R10</td>\n",
       "      <td>Outside Delhi-NCR</td>\n",
       "      <td>20</td>\n",
       "      <td>0.0</td>\n",
       "      <td>Very poor</td>\n",
       "      <td>Laptop/Desktop</td>\n",
       "      <td>1.0</td>\n",
       "      <td>0.5</td>\n",
       "      <td>8.0</td>\n",
       "      <td>5.0</td>\n",
       "      <td>Instagram</td>\n",
       "      <td>3</td>\n",
       "      <td>3</td>\n",
       "      <td>Decreased</td>\n",
       "      <td>YES</td>\n",
       "      <td>live stream watching</td>\n",
       "      <td>NO</td>\n",
       "      <td>NO</td>\n",
       "      <td>School/college</td>\n",
       "    </tr>\n",
       "    <tr>\n",
       "      <th>10</th>\n",
       "      <td>R11</td>\n",
       "      <td>Delhi-NCR</td>\n",
       "      <td>21</td>\n",
       "      <td>3.0</td>\n",
       "      <td>Good</td>\n",
       "      <td>Laptop/Desktop</td>\n",
       "      <td>3.0</td>\n",
       "      <td>1.0</td>\n",
       "      <td>8.0</td>\n",
       "      <td>3.0</td>\n",
       "      <td>Instagram</td>\n",
       "      <td>1</td>\n",
       "      <td>4</td>\n",
       "      <td>Remain Constant</td>\n",
       "      <td>NO</td>\n",
       "      <td>Social Media</td>\n",
       "      <td>NO</td>\n",
       "      <td>NO</td>\n",
       "      <td>Colleagues</td>\n",
       "    </tr>\n",
       "    <tr>\n",
       "      <th>11</th>\n",
       "      <td>R12</td>\n",
       "      <td>Delhi-NCR</td>\n",
       "      <td>21</td>\n",
       "      <td>1.0</td>\n",
       "      <td>Very poor</td>\n",
       "      <td>Laptop/Desktop</td>\n",
       "      <td>0.0</td>\n",
       "      <td>1.0</td>\n",
       "      <td>7.0</td>\n",
       "      <td>3.0</td>\n",
       "      <td>Instagram</td>\n",
       "      <td>1</td>\n",
       "      <td>2</td>\n",
       "      <td>Increased</td>\n",
       "      <td>YES</td>\n",
       "      <td>Watching web series</td>\n",
       "      <td>YES</td>\n",
       "      <td>YES</td>\n",
       "      <td>Eating outside</td>\n",
       "    </tr>\n",
       "    <tr>\n",
       "      <th>12</th>\n",
       "      <td>R13</td>\n",
       "      <td>Delhi-NCR</td>\n",
       "      <td>21</td>\n",
       "      <td>3.0</td>\n",
       "      <td>Average</td>\n",
       "      <td>Laptop/Desktop</td>\n",
       "      <td>0.0</td>\n",
       "      <td>0.0</td>\n",
       "      <td>8.0</td>\n",
       "      <td>3.0</td>\n",
       "      <td>Instagram</td>\n",
       "      <td>0</td>\n",
       "      <td>3</td>\n",
       "      <td>Increased</td>\n",
       "      <td>YES</td>\n",
       "      <td>Listening to music</td>\n",
       "      <td>NO</td>\n",
       "      <td>NO</td>\n",
       "      <td>School/college</td>\n",
       "    </tr>\n",
       "    <tr>\n",
       "      <th>13</th>\n",
       "      <td>R14</td>\n",
       "      <td>Outside Delhi-NCR</td>\n",
       "      <td>22</td>\n",
       "      <td>1.0</td>\n",
       "      <td>Good</td>\n",
       "      <td>Laptop/Desktop</td>\n",
       "      <td>2.0</td>\n",
       "      <td>0.0</td>\n",
       "      <td>7.0</td>\n",
       "      <td>0.0</td>\n",
       "      <td>None</td>\n",
       "      <td>0.5</td>\n",
       "      <td>2</td>\n",
       "      <td>Increased</td>\n",
       "      <td>NO</td>\n",
       "      <td>Reading</td>\n",
       "      <td>YES</td>\n",
       "      <td>YES</td>\n",
       "      <td>Travelling</td>\n",
       "    </tr>\n",
       "    <tr>\n",
       "      <th>14</th>\n",
       "      <td>R15</td>\n",
       "      <td>Delhi-NCR</td>\n",
       "      <td>20</td>\n",
       "      <td>5.0</td>\n",
       "      <td>Very poor</td>\n",
       "      <td>Laptop/Desktop</td>\n",
       "      <td>1.0</td>\n",
       "      <td>0.0</td>\n",
       "      <td>8.0</td>\n",
       "      <td>3.0</td>\n",
       "      <td>Instagram</td>\n",
       "      <td>0</td>\n",
       "      <td>3</td>\n",
       "      <td>Remain Constant</td>\n",
       "      <td>NO</td>\n",
       "      <td>Scrolling through social media</td>\n",
       "      <td>NO</td>\n",
       "      <td>NO</td>\n",
       "      <td>Eating outside</td>\n",
       "    </tr>\n",
       "    <tr>\n",
       "      <th>15</th>\n",
       "      <td>R16</td>\n",
       "      <td>Delhi-NCR</td>\n",
       "      <td>22</td>\n",
       "      <td>3.0</td>\n",
       "      <td>Average</td>\n",
       "      <td>Smartphone</td>\n",
       "      <td>3.0</td>\n",
       "      <td>1.0</td>\n",
       "      <td>6.0</td>\n",
       "      <td>2.0</td>\n",
       "      <td>Instagram</td>\n",
       "      <td>1</td>\n",
       "      <td>3</td>\n",
       "      <td>Increased</td>\n",
       "      <td>NO</td>\n",
       "      <td>Online gaming</td>\n",
       "      <td>YES</td>\n",
       "      <td>YES</td>\n",
       "      <td>Eating outside</td>\n",
       "    </tr>\n",
       "    <tr>\n",
       "      <th>16</th>\n",
       "      <td>R17</td>\n",
       "      <td>Outside Delhi-NCR</td>\n",
       "      <td>20</td>\n",
       "      <td>0.0</td>\n",
       "      <td>Good</td>\n",
       "      <td>Smartphone</td>\n",
       "      <td>0.0</td>\n",
       "      <td>0.0</td>\n",
       "      <td>8.0</td>\n",
       "      <td>2.0</td>\n",
       "      <td>Reddit</td>\n",
       "      <td>1</td>\n",
       "      <td>3</td>\n",
       "      <td>Increased</td>\n",
       "      <td>NO</td>\n",
       "      <td>Online gaming</td>\n",
       "      <td>NO</td>\n",
       "      <td>YES</td>\n",
       "      <td>Colleagues</td>\n",
       "    </tr>\n",
       "    <tr>\n",
       "      <th>17</th>\n",
       "      <td>R18</td>\n",
       "      <td>Delhi-NCR</td>\n",
       "      <td>20</td>\n",
       "      <td>1.0</td>\n",
       "      <td>Very poor</td>\n",
       "      <td>Smartphone</td>\n",
       "      <td>2.0</td>\n",
       "      <td>1.0</td>\n",
       "      <td>8.0</td>\n",
       "      <td>1.0</td>\n",
       "      <td>Youtube</td>\n",
       "      <td>0</td>\n",
       "      <td>3</td>\n",
       "      <td>Remain Constant</td>\n",
       "      <td>NO</td>\n",
       "      <td>Listening to music</td>\n",
       "      <td>NO</td>\n",
       "      <td>NO</td>\n",
       "      <td>Roaming around freely</td>\n",
       "    </tr>\n",
       "    <tr>\n",
       "      <th>18</th>\n",
       "      <td>R19</td>\n",
       "      <td>Delhi-NCR</td>\n",
       "      <td>21</td>\n",
       "      <td>0.0</td>\n",
       "      <td>Very poor</td>\n",
       "      <td>Laptop/Desktop</td>\n",
       "      <td>4.0</td>\n",
       "      <td>0.0</td>\n",
       "      <td>7.0</td>\n",
       "      <td>7.0</td>\n",
       "      <td>Youtube</td>\n",
       "      <td>n</td>\n",
       "      <td>2</td>\n",
       "      <td>Remain Constant</td>\n",
       "      <td>NO</td>\n",
       "      <td>Reading books</td>\n",
       "      <td>NO</td>\n",
       "      <td>NO</td>\n",
       "      <td>Friends , relatives</td>\n",
       "    </tr>\n",
       "    <tr>\n",
       "      <th>19</th>\n",
       "      <td>R20</td>\n",
       "      <td>Delhi-NCR</td>\n",
       "      <td>22</td>\n",
       "      <td>5.0</td>\n",
       "      <td>Very poor</td>\n",
       "      <td>Smartphone</td>\n",
       "      <td>2.0</td>\n",
       "      <td>1.0</td>\n",
       "      <td>8.0</td>\n",
       "      <td>4.0</td>\n",
       "      <td>Instagram</td>\n",
       "      <td>0</td>\n",
       "      <td>3</td>\n",
       "      <td>Increased</td>\n",
       "      <td>NO</td>\n",
       "      <td>Dancing</td>\n",
       "      <td>YES</td>\n",
       "      <td>YES</td>\n",
       "      <td>Friends , relatives</td>\n",
       "    </tr>\n",
       "    <tr>\n",
       "      <th>20</th>\n",
       "      <td>R21</td>\n",
       "      <td>Delhi-NCR</td>\n",
       "      <td>20</td>\n",
       "      <td>4.0</td>\n",
       "      <td>Excellent</td>\n",
       "      <td>Laptop/Desktop</td>\n",
       "      <td>5.0</td>\n",
       "      <td>0.0</td>\n",
       "      <td>6.0</td>\n",
       "      <td>2.0</td>\n",
       "      <td>Linkedin</td>\n",
       "      <td>1</td>\n",
       "      <td>2</td>\n",
       "      <td>Decreased</td>\n",
       "      <td>NO</td>\n",
       "      <td>Listening to music</td>\n",
       "      <td>YES</td>\n",
       "      <td>YES</td>\n",
       "      <td>Roaming around freely</td>\n",
       "    </tr>\n",
       "    <tr>\n",
       "      <th>21</th>\n",
       "      <td>R22</td>\n",
       "      <td>Delhi-NCR</td>\n",
       "      <td>21</td>\n",
       "      <td>5.0</td>\n",
       "      <td>Average</td>\n",
       "      <td>Laptop/Desktop</td>\n",
       "      <td>2.0</td>\n",
       "      <td>1.0</td>\n",
       "      <td>10.0</td>\n",
       "      <td>5.0</td>\n",
       "      <td>Instagram</td>\n",
       "      <td>2</td>\n",
       "      <td>3</td>\n",
       "      <td>Remain Constant</td>\n",
       "      <td>NO</td>\n",
       "      <td>Talking with friends</td>\n",
       "      <td>YES</td>\n",
       "      <td>NO</td>\n",
       "      <td>School/college</td>\n",
       "    </tr>\n",
       "    <tr>\n",
       "      <th>22</th>\n",
       "      <td>R23</td>\n",
       "      <td>Delhi-NCR</td>\n",
       "      <td>21</td>\n",
       "      <td>4.0</td>\n",
       "      <td>Very poor</td>\n",
       "      <td>Smartphone</td>\n",
       "      <td>1.0</td>\n",
       "      <td>0.0</td>\n",
       "      <td>8.0</td>\n",
       "      <td>6.0</td>\n",
       "      <td>Instagram</td>\n",
       "      <td>1</td>\n",
       "      <td>4</td>\n",
       "      <td>Decreased</td>\n",
       "      <td>NO</td>\n",
       "      <td>Watching web series</td>\n",
       "      <td>NO</td>\n",
       "      <td>YES</td>\n",
       "      <td>School/college</td>\n",
       "    </tr>\n",
       "    <tr>\n",
       "      <th>23</th>\n",
       "      <td>R24</td>\n",
       "      <td>Delhi-NCR</td>\n",
       "      <td>21</td>\n",
       "      <td>4.0</td>\n",
       "      <td>Average</td>\n",
       "      <td>Laptop/Desktop</td>\n",
       "      <td>2.0</td>\n",
       "      <td>1.0</td>\n",
       "      <td>7.0</td>\n",
       "      <td>1.0</td>\n",
       "      <td>Linkedin</td>\n",
       "      <td>0</td>\n",
       "      <td>3</td>\n",
       "      <td>Decreased</td>\n",
       "      <td>NO</td>\n",
       "      <td>Dancing</td>\n",
       "      <td>YES</td>\n",
       "      <td>YES</td>\n",
       "      <td>Travelling</td>\n",
       "    </tr>\n",
       "    <tr>\n",
       "      <th>24</th>\n",
       "      <td>R25</td>\n",
       "      <td>Delhi-NCR</td>\n",
       "      <td>20</td>\n",
       "      <td>3.0</td>\n",
       "      <td>Very poor</td>\n",
       "      <td>Smartphone</td>\n",
       "      <td>4.0</td>\n",
       "      <td>2.0</td>\n",
       "      <td>9.0</td>\n",
       "      <td>2.0</td>\n",
       "      <td>Instagram</td>\n",
       "      <td>1</td>\n",
       "      <td>3</td>\n",
       "      <td>Decreased</td>\n",
       "      <td>NO</td>\n",
       "      <td>Reading books</td>\n",
       "      <td>YES</td>\n",
       "      <td>NO</td>\n",
       "      <td>School/college</td>\n",
       "    </tr>\n",
       "    <tr>\n",
       "      <th>25</th>\n",
       "      <td>R26</td>\n",
       "      <td>Delhi-NCR</td>\n",
       "      <td>20</td>\n",
       "      <td>5.0</td>\n",
       "      <td>Very poor</td>\n",
       "      <td>Smartphone</td>\n",
       "      <td>2.0</td>\n",
       "      <td>0.0</td>\n",
       "      <td>9.0</td>\n",
       "      <td>5.0</td>\n",
       "      <td>Linkedin</td>\n",
       "      <td>3</td>\n",
       "      <td>2</td>\n",
       "      <td>Increased</td>\n",
       "      <td>NO</td>\n",
       "      <td>Talking to your relatives</td>\n",
       "      <td>YES</td>\n",
       "      <td>YES</td>\n",
       "      <td>Eating outside</td>\n",
       "    </tr>\n",
       "    <tr>\n",
       "      <th>26</th>\n",
       "      <td>R27</td>\n",
       "      <td>Delhi-NCR</td>\n",
       "      <td>21</td>\n",
       "      <td>4.0</td>\n",
       "      <td>Very poor</td>\n",
       "      <td>Laptop/Desktop</td>\n",
       "      <td>5.0</td>\n",
       "      <td>0.0</td>\n",
       "      <td>8.0</td>\n",
       "      <td>3.0</td>\n",
       "      <td>Instagram</td>\n",
       "      <td>0</td>\n",
       "      <td>2</td>\n",
       "      <td>Increased</td>\n",
       "      <td>YES</td>\n",
       "      <td>Listening to music</td>\n",
       "      <td>NO</td>\n",
       "      <td>YES</td>\n",
       "      <td>School/college</td>\n",
       "    </tr>\n",
       "    <tr>\n",
       "      <th>27</th>\n",
       "      <td>R28</td>\n",
       "      <td>Delhi-NCR</td>\n",
       "      <td>20</td>\n",
       "      <td>3.0</td>\n",
       "      <td>Very poor</td>\n",
       "      <td>Laptop/Desktop</td>\n",
       "      <td>6.0</td>\n",
       "      <td>0.0</td>\n",
       "      <td>9.0</td>\n",
       "      <td>2.0</td>\n",
       "      <td>Whatsapp</td>\n",
       "      <td>0</td>\n",
       "      <td>2</td>\n",
       "      <td>Remain Constant</td>\n",
       "      <td>NO</td>\n",
       "      <td>Listening to music</td>\n",
       "      <td>NO</td>\n",
       "      <td>NO</td>\n",
       "      <td>Roaming around freely</td>\n",
       "    </tr>\n",
       "    <tr>\n",
       "      <th>28</th>\n",
       "      <td>R29</td>\n",
       "      <td>Delhi-NCR</td>\n",
       "      <td>31</td>\n",
       "      <td>8.0</td>\n",
       "      <td>Average</td>\n",
       "      <td>Laptop/Desktop</td>\n",
       "      <td>4.0</td>\n",
       "      <td>1.0</td>\n",
       "      <td>6.0</td>\n",
       "      <td>2.0</td>\n",
       "      <td>Linkedin</td>\n",
       "      <td>0.5</td>\n",
       "      <td>3</td>\n",
       "      <td>Remain Constant</td>\n",
       "      <td>NO</td>\n",
       "      <td>Listening to music</td>\n",
       "      <td>YES</td>\n",
       "      <td>YES</td>\n",
       "      <td>Job</td>\n",
       "    </tr>\n",
       "    <tr>\n",
       "      <th>29</th>\n",
       "      <td>R30</td>\n",
       "      <td>Delhi-NCR</td>\n",
       "      <td>22</td>\n",
       "      <td>4.0</td>\n",
       "      <td>Very poor</td>\n",
       "      <td>Smartphone</td>\n",
       "      <td>6.0</td>\n",
       "      <td>1.0</td>\n",
       "      <td>5.0</td>\n",
       "      <td>3.0</td>\n",
       "      <td>Youtube</td>\n",
       "      <td>0</td>\n",
       "      <td>4</td>\n",
       "      <td>Remain Constant</td>\n",
       "      <td>NO</td>\n",
       "      <td>sketching,reading books,meditation,songs</td>\n",
       "      <td>NO</td>\n",
       "      <td>NO</td>\n",
       "      <td>Friends , relatives</td>\n",
       "    </tr>\n",
       "    <tr>\n",
       "      <th>30</th>\n",
       "      <td>R31</td>\n",
       "      <td>Delhi-NCR</td>\n",
       "      <td>19</td>\n",
       "      <td>4.0</td>\n",
       "      <td>Very poor</td>\n",
       "      <td>Smartphone</td>\n",
       "      <td>5.0</td>\n",
       "      <td>1.0</td>\n",
       "      <td>7.0</td>\n",
       "      <td>2.0</td>\n",
       "      <td>Whatsapp</td>\n",
       "      <td>1</td>\n",
       "      <td>2</td>\n",
       "      <td>Decreased</td>\n",
       "      <td>YES</td>\n",
       "      <td>Listening to music</td>\n",
       "      <td>YES</td>\n",
       "      <td>YES</td>\n",
       "      <td>Roaming around freely</td>\n",
       "    </tr>\n",
       "    <tr>\n",
       "      <th>31</th>\n",
       "      <td>R32</td>\n",
       "      <td>Delhi-NCR</td>\n",
       "      <td>23</td>\n",
       "      <td>4.0</td>\n",
       "      <td>Excellent</td>\n",
       "      <td>Laptop/Desktop</td>\n",
       "      <td>18.0</td>\n",
       "      <td>1.0</td>\n",
       "      <td>8.0</td>\n",
       "      <td>2.0</td>\n",
       "      <td>Snapchat</td>\n",
       "      <td>0</td>\n",
       "      <td>2</td>\n",
       "      <td>Decreased</td>\n",
       "      <td>NO</td>\n",
       "      <td>Reading books</td>\n",
       "      <td>YES</td>\n",
       "      <td>YES</td>\n",
       "      <td>Travelling</td>\n",
       "    </tr>\n",
       "    <tr>\n",
       "      <th>32</th>\n",
       "      <td>R33</td>\n",
       "      <td>Delhi-NCR</td>\n",
       "      <td>21</td>\n",
       "      <td>0.0</td>\n",
       "      <td>Very poor</td>\n",
       "      <td>NaN</td>\n",
       "      <td>5.0</td>\n",
       "      <td>2.0</td>\n",
       "      <td>4.0</td>\n",
       "      <td>2.0</td>\n",
       "      <td>Omegle</td>\n",
       "      <td>0</td>\n",
       "      <td>3</td>\n",
       "      <td>Remain Constant</td>\n",
       "      <td>NO</td>\n",
       "      <td>Watching orgasm releasing videos</td>\n",
       "      <td>YES</td>\n",
       "      <td>NO</td>\n",
       "      <td>Nothing this is my usual life</td>\n",
       "    </tr>\n",
       "    <tr>\n",
       "      <th>33</th>\n",
       "      <td>R34</td>\n",
       "      <td>Delhi-NCR</td>\n",
       "      <td>22</td>\n",
       "      <td>5.0</td>\n",
       "      <td>Very poor</td>\n",
       "      <td>Laptop/Desktop</td>\n",
       "      <td>1.0</td>\n",
       "      <td>0.0</td>\n",
       "      <td>6.0</td>\n",
       "      <td>2.0</td>\n",
       "      <td>Linkedin</td>\n",
       "      <td>0.5</td>\n",
       "      <td>3</td>\n",
       "      <td>Decreased</td>\n",
       "      <td>YES</td>\n",
       "      <td>Watching web series</td>\n",
       "      <td>YES</td>\n",
       "      <td>YES</td>\n",
       "      <td>Friends , relatives</td>\n",
       "    </tr>\n",
       "    <tr>\n",
       "      <th>34</th>\n",
       "      <td>R35</td>\n",
       "      <td>Delhi-NCR</td>\n",
       "      <td>20</td>\n",
       "      <td>0.0</td>\n",
       "      <td>NaN</td>\n",
       "      <td>NaN</td>\n",
       "      <td>6.0</td>\n",
       "      <td>1.0</td>\n",
       "      <td>6.0</td>\n",
       "      <td>5.0</td>\n",
       "      <td>Instagram</td>\n",
       "      <td>0</td>\n",
       "      <td>4</td>\n",
       "      <td>Increased</td>\n",
       "      <td>NO</td>\n",
       "      <td>Talking to your relatives</td>\n",
       "      <td>YES</td>\n",
       "      <td>NO</td>\n",
       "      <td>Eating outside</td>\n",
       "    </tr>\n",
       "    <tr>\n",
       "      <th>35</th>\n",
       "      <td>R36</td>\n",
       "      <td>Outside Delhi-NCR</td>\n",
       "      <td>21</td>\n",
       "      <td>6.0</td>\n",
       "      <td>Average</td>\n",
       "      <td>Smartphone</td>\n",
       "      <td>2.0</td>\n",
       "      <td>1.0</td>\n",
       "      <td>8.0</td>\n",
       "      <td>3.0</td>\n",
       "      <td>Instagram</td>\n",
       "      <td>1</td>\n",
       "      <td>3</td>\n",
       "      <td>Remain Constant</td>\n",
       "      <td>NO</td>\n",
       "      <td>Cooking</td>\n",
       "      <td>NO</td>\n",
       "      <td>YES</td>\n",
       "      <td>Friends , relatives</td>\n",
       "    </tr>\n",
       "    <tr>\n",
       "      <th>36</th>\n",
       "      <td>R37</td>\n",
       "      <td>Delhi-NCR</td>\n",
       "      <td>17</td>\n",
       "      <td>4.0</td>\n",
       "      <td>Very poor</td>\n",
       "      <td>Laptop/Desktop</td>\n",
       "      <td>1.0</td>\n",
       "      <td>1.0</td>\n",
       "      <td>7.0</td>\n",
       "      <td>1.5</td>\n",
       "      <td>Instagram</td>\n",
       "      <td>0</td>\n",
       "      <td>3</td>\n",
       "      <td>Decreased</td>\n",
       "      <td>NO</td>\n",
       "      <td>Reading books</td>\n",
       "      <td>NO</td>\n",
       "      <td>YES</td>\n",
       "      <td>Travelling</td>\n",
       "    </tr>\n",
       "    <tr>\n",
       "      <th>37</th>\n",
       "      <td>R38</td>\n",
       "      <td>Outside Delhi-NCR</td>\n",
       "      <td>20</td>\n",
       "      <td>4.0</td>\n",
       "      <td>Average</td>\n",
       "      <td>Laptop/Desktop</td>\n",
       "      <td>2.0</td>\n",
       "      <td>0.0</td>\n",
       "      <td>8.0</td>\n",
       "      <td>2.0</td>\n",
       "      <td>Instagram</td>\n",
       "      <td>0</td>\n",
       "      <td>3</td>\n",
       "      <td>Increased</td>\n",
       "      <td>NO</td>\n",
       "      <td>Sleep</td>\n",
       "      <td>NO</td>\n",
       "      <td>YES</td>\n",
       "      <td>Eating outside</td>\n",
       "    </tr>\n",
       "    <tr>\n",
       "      <th>38</th>\n",
       "      <td>R39</td>\n",
       "      <td>Outside Delhi-NCR</td>\n",
       "      <td>22</td>\n",
       "      <td>1.0</td>\n",
       "      <td>Very poor</td>\n",
       "      <td>Smartphone</td>\n",
       "      <td>2.0</td>\n",
       "      <td>0.5</td>\n",
       "      <td>8.0</td>\n",
       "      <td>2.0</td>\n",
       "      <td>Linkedin</td>\n",
       "      <td>2</td>\n",
       "      <td>3</td>\n",
       "      <td>Increased</td>\n",
       "      <td>NO</td>\n",
       "      <td>Listening to music</td>\n",
       "      <td>NO</td>\n",
       "      <td>YES</td>\n",
       "      <td>School/college</td>\n",
       "    </tr>\n",
       "    <tr>\n",
       "      <th>39</th>\n",
       "      <td>R40</td>\n",
       "      <td>Delhi-NCR</td>\n",
       "      <td>20</td>\n",
       "      <td>0.0</td>\n",
       "      <td>NaN</td>\n",
       "      <td>NaN</td>\n",
       "      <td>8.0</td>\n",
       "      <td>0.0</td>\n",
       "      <td>8.0</td>\n",
       "      <td>0.0</td>\n",
       "      <td>Youtube</td>\n",
       "      <td>0</td>\n",
       "      <td>3</td>\n",
       "      <td>Increased</td>\n",
       "      <td>NO</td>\n",
       "      <td>Reading books</td>\n",
       "      <td>NO</td>\n",
       "      <td>YES</td>\n",
       "      <td>Travelling</td>\n",
       "    </tr>\n",
       "    <tr>\n",
       "      <th>40</th>\n",
       "      <td>R41</td>\n",
       "      <td>Delhi-NCR</td>\n",
       "      <td>24</td>\n",
       "      <td>4.0</td>\n",
       "      <td>Good</td>\n",
       "      <td>Laptop/Desktop</td>\n",
       "      <td>4.0</td>\n",
       "      <td>2.0</td>\n",
       "      <td>6.0</td>\n",
       "      <td>4.0</td>\n",
       "      <td>Youtube</td>\n",
       "      <td>0</td>\n",
       "      <td>4</td>\n",
       "      <td>Increased</td>\n",
       "      <td>NO</td>\n",
       "      <td>Social Media</td>\n",
       "      <td>YES</td>\n",
       "      <td>YES</td>\n",
       "      <td>Travelling</td>\n",
       "    </tr>\n",
       "    <tr>\n",
       "      <th>41</th>\n",
       "      <td>R42</td>\n",
       "      <td>Outside Delhi-NCR</td>\n",
       "      <td>21</td>\n",
       "      <td>0.0</td>\n",
       "      <td>Very poor</td>\n",
       "      <td>Laptop/Desktop</td>\n",
       "      <td>0.0</td>\n",
       "      <td>0.0</td>\n",
       "      <td>10.0</td>\n",
       "      <td>8.0</td>\n",
       "      <td>Youtube</td>\n",
       "      <td>1</td>\n",
       "      <td>4</td>\n",
       "      <td>Remain Constant</td>\n",
       "      <td>NO</td>\n",
       "      <td>Watching web series</td>\n",
       "      <td>YES</td>\n",
       "      <td>NO</td>\n",
       "      <td>Travelling</td>\n",
       "    </tr>\n",
       "    <tr>\n",
       "      <th>42</th>\n",
       "      <td>R43</td>\n",
       "      <td>Delhi-NCR</td>\n",
       "      <td>20</td>\n",
       "      <td>7.0</td>\n",
       "      <td>Very poor</td>\n",
       "      <td>Smartphone</td>\n",
       "      <td>2.0</td>\n",
       "      <td>1.0</td>\n",
       "      <td>8.0</td>\n",
       "      <td>2.0</td>\n",
       "      <td>Whatsapp</td>\n",
       "      <td>2</td>\n",
       "      <td>4</td>\n",
       "      <td>Remain Constant</td>\n",
       "      <td>YES</td>\n",
       "      <td>Listening to music</td>\n",
       "      <td>NO</td>\n",
       "      <td>NO</td>\n",
       "      <td>Roaming around freely</td>\n",
       "    </tr>\n",
       "    <tr>\n",
       "      <th>43</th>\n",
       "      <td>R44</td>\n",
       "      <td>Delhi-NCR</td>\n",
       "      <td>21</td>\n",
       "      <td>5.0</td>\n",
       "      <td>Very poor</td>\n",
       "      <td>Laptop/Desktop</td>\n",
       "      <td>3.0</td>\n",
       "      <td>1.0</td>\n",
       "      <td>8.0</td>\n",
       "      <td>1.0</td>\n",
       "      <td>Instagram</td>\n",
       "      <td>0</td>\n",
       "      <td>2</td>\n",
       "      <td>Increased</td>\n",
       "      <td>NO</td>\n",
       "      <td>Listening to music</td>\n",
       "      <td>NO</td>\n",
       "      <td>NO</td>\n",
       "      <td>Eating outside</td>\n",
       "    </tr>\n",
       "    <tr>\n",
       "      <th>44</th>\n",
       "      <td>R45</td>\n",
       "      <td>Delhi-NCR</td>\n",
       "      <td>18</td>\n",
       "      <td>2.0</td>\n",
       "      <td>Average</td>\n",
       "      <td>Smartphone</td>\n",
       "      <td>2.0</td>\n",
       "      <td>3.0</td>\n",
       "      <td>12.0</td>\n",
       "      <td>1.0</td>\n",
       "      <td>Linkedin</td>\n",
       "      <td>0</td>\n",
       "      <td>4</td>\n",
       "      <td>Remain Constant</td>\n",
       "      <td>NO</td>\n",
       "      <td>Sleep</td>\n",
       "      <td>NO</td>\n",
       "      <td>NO</td>\n",
       "      <td>Friends , relatives</td>\n",
       "    </tr>\n",
       "    <tr>\n",
       "      <th>45</th>\n",
       "      <td>R46</td>\n",
       "      <td>Delhi-NCR</td>\n",
       "      <td>22</td>\n",
       "      <td>3.0</td>\n",
       "      <td>Very poor</td>\n",
       "      <td>Laptop/Desktop</td>\n",
       "      <td>2.0</td>\n",
       "      <td>0.0</td>\n",
       "      <td>8.0</td>\n",
       "      <td>1.0</td>\n",
       "      <td>Instagram</td>\n",
       "      <td>0</td>\n",
       "      <td>4</td>\n",
       "      <td>Increased</td>\n",
       "      <td>NO</td>\n",
       "      <td>Cooking</td>\n",
       "      <td>NO</td>\n",
       "      <td>YES</td>\n",
       "      <td>Eating outside</td>\n",
       "    </tr>\n",
       "    <tr>\n",
       "      <th>46</th>\n",
       "      <td>R47</td>\n",
       "      <td>Delhi-NCR</td>\n",
       "      <td>20</td>\n",
       "      <td>2.0</td>\n",
       "      <td>Very poor</td>\n",
       "      <td>Smartphone</td>\n",
       "      <td>6.0</td>\n",
       "      <td>2.0</td>\n",
       "      <td>7.0</td>\n",
       "      <td>1.0</td>\n",
       "      <td>Instagram</td>\n",
       "      <td>3</td>\n",
       "      <td>6</td>\n",
       "      <td>Decreased</td>\n",
       "      <td>NO</td>\n",
       "      <td>Listening to music</td>\n",
       "      <td>YES</td>\n",
       "      <td>NO</td>\n",
       "      <td>Roaming around freely</td>\n",
       "    </tr>\n",
       "    <tr>\n",
       "      <th>47</th>\n",
       "      <td>R48</td>\n",
       "      <td>Delhi-NCR</td>\n",
       "      <td>20</td>\n",
       "      <td>2.0</td>\n",
       "      <td>Very poor</td>\n",
       "      <td>Smartphone</td>\n",
       "      <td>3.0</td>\n",
       "      <td>0.0</td>\n",
       "      <td>6.0</td>\n",
       "      <td>2.0</td>\n",
       "      <td>Youtube</td>\n",
       "      <td>0</td>\n",
       "      <td>3</td>\n",
       "      <td>Decreased</td>\n",
       "      <td>YES</td>\n",
       "      <td>Reading books</td>\n",
       "      <td>NO</td>\n",
       "      <td>NO</td>\n",
       "      <td>School/college</td>\n",
       "    </tr>\n",
       "    <tr>\n",
       "      <th>48</th>\n",
       "      <td>R49</td>\n",
       "      <td>Delhi-NCR</td>\n",
       "      <td>21</td>\n",
       "      <td>3.0</td>\n",
       "      <td>Very poor</td>\n",
       "      <td>Laptop/Desktop</td>\n",
       "      <td>4.0</td>\n",
       "      <td>2.0</td>\n",
       "      <td>8.0</td>\n",
       "      <td>2.0</td>\n",
       "      <td>Twitter</td>\n",
       "      <td>0</td>\n",
       "      <td>4</td>\n",
       "      <td>Increased</td>\n",
       "      <td>NO</td>\n",
       "      <td>Listening to music</td>\n",
       "      <td>YES</td>\n",
       "      <td>YES</td>\n",
       "      <td>Travelling</td>\n",
       "    </tr>\n",
       "    <tr>\n",
       "      <th>49</th>\n",
       "      <td>R50</td>\n",
       "      <td>Delhi-NCR</td>\n",
       "      <td>18</td>\n",
       "      <td>4.0</td>\n",
       "      <td>Good</td>\n",
       "      <td>Laptop/Desktop</td>\n",
       "      <td>2.0</td>\n",
       "      <td>0.0</td>\n",
       "      <td>8.0</td>\n",
       "      <td>4.0</td>\n",
       "      <td>Instagram</td>\n",
       "      <td>0</td>\n",
       "      <td>3</td>\n",
       "      <td>Remain Constant</td>\n",
       "      <td>NO</td>\n",
       "      <td>Social Media</td>\n",
       "      <td>YES</td>\n",
       "      <td>YES</td>\n",
       "      <td>Colleagues</td>\n",
       "    </tr>\n",
       "  </tbody>\n",
       "</table>\n",
       "</div>"
      ],
      "text/plain": [
       "     ID Region of residence  Age of Subject  Time spent on Online Class  \\\n",
       "0    R1           Delhi-NCR              21                         2.0   \n",
       "1    R2           Delhi-NCR              21                         0.0   \n",
       "2    R3           Delhi-NCR              20                         7.0   \n",
       "3    R4           Delhi-NCR              20                         3.0   \n",
       "4    R5           Delhi-NCR              21                         3.0   \n",
       "5    R6           Delhi-NCR              21                         0.0   \n",
       "6    R7           Delhi-NCR              19                         2.0   \n",
       "7    R8   Outside Delhi-NCR              19                         2.0   \n",
       "8    R9           Delhi-NCR              21                         3.0   \n",
       "9   R10   Outside Delhi-NCR              20                         0.0   \n",
       "10  R11           Delhi-NCR              21                         3.0   \n",
       "11  R12           Delhi-NCR              21                         1.0   \n",
       "12  R13           Delhi-NCR              21                         3.0   \n",
       "13  R14   Outside Delhi-NCR              22                         1.0   \n",
       "14  R15           Delhi-NCR              20                         5.0   \n",
       "15  R16           Delhi-NCR              22                         3.0   \n",
       "16  R17   Outside Delhi-NCR              20                         0.0   \n",
       "17  R18           Delhi-NCR              20                         1.0   \n",
       "18  R19           Delhi-NCR              21                         0.0   \n",
       "19  R20           Delhi-NCR              22                         5.0   \n",
       "20  R21           Delhi-NCR              20                         4.0   \n",
       "21  R22           Delhi-NCR              21                         5.0   \n",
       "22  R23           Delhi-NCR              21                         4.0   \n",
       "23  R24           Delhi-NCR              21                         4.0   \n",
       "24  R25           Delhi-NCR              20                         3.0   \n",
       "25  R26           Delhi-NCR              20                         5.0   \n",
       "26  R27           Delhi-NCR              21                         4.0   \n",
       "27  R28           Delhi-NCR              20                         3.0   \n",
       "28  R29           Delhi-NCR              31                         8.0   \n",
       "29  R30           Delhi-NCR              22                         4.0   \n",
       "30  R31           Delhi-NCR              19                         4.0   \n",
       "31  R32           Delhi-NCR              23                         4.0   \n",
       "32  R33           Delhi-NCR              21                         0.0   \n",
       "33  R34           Delhi-NCR              22                         5.0   \n",
       "34  R35           Delhi-NCR              20                         0.0   \n",
       "35  R36   Outside Delhi-NCR              21                         6.0   \n",
       "36  R37           Delhi-NCR              17                         4.0   \n",
       "37  R38   Outside Delhi-NCR              20                         4.0   \n",
       "38  R39   Outside Delhi-NCR              22                         1.0   \n",
       "39  R40           Delhi-NCR              20                         0.0   \n",
       "40  R41           Delhi-NCR              24                         4.0   \n",
       "41  R42   Outside Delhi-NCR              21                         0.0   \n",
       "42  R43           Delhi-NCR              20                         7.0   \n",
       "43  R44           Delhi-NCR              21                         5.0   \n",
       "44  R45           Delhi-NCR              18                         2.0   \n",
       "45  R46           Delhi-NCR              22                         3.0   \n",
       "46  R47           Delhi-NCR              20                         2.0   \n",
       "47  R48           Delhi-NCR              20                         2.0   \n",
       "48  R49           Delhi-NCR              21                         3.0   \n",
       "49  R50           Delhi-NCR              18                         4.0   \n",
       "\n",
       "   Rating of Online Class experience Medium for online class  \\\n",
       "0                               Good          Laptop/Desktop   \n",
       "1                          Excellent              Smartphone   \n",
       "2                          Very poor          Laptop/Desktop   \n",
       "3                          Very poor              Smartphone   \n",
       "4                               Good          Laptop/Desktop   \n",
       "5                          Very poor              Smartphone   \n",
       "6                          Very poor              Smartphone   \n",
       "7                          Very poor                  Tablet   \n",
       "8                          Very poor          Laptop/Desktop   \n",
       "9                          Very poor          Laptop/Desktop   \n",
       "10                              Good          Laptop/Desktop   \n",
       "11                         Very poor          Laptop/Desktop   \n",
       "12                           Average          Laptop/Desktop   \n",
       "13                              Good          Laptop/Desktop   \n",
       "14                         Very poor          Laptop/Desktop   \n",
       "15                           Average              Smartphone   \n",
       "16                              Good              Smartphone   \n",
       "17                         Very poor              Smartphone   \n",
       "18                         Very poor          Laptop/Desktop   \n",
       "19                         Very poor              Smartphone   \n",
       "20                         Excellent          Laptop/Desktop   \n",
       "21                           Average          Laptop/Desktop   \n",
       "22                         Very poor              Smartphone   \n",
       "23                           Average          Laptop/Desktop   \n",
       "24                         Very poor              Smartphone   \n",
       "25                         Very poor              Smartphone   \n",
       "26                         Very poor          Laptop/Desktop   \n",
       "27                         Very poor          Laptop/Desktop   \n",
       "28                           Average          Laptop/Desktop   \n",
       "29                         Very poor              Smartphone   \n",
       "30                         Very poor              Smartphone   \n",
       "31                         Excellent          Laptop/Desktop   \n",
       "32                         Very poor                     NaN   \n",
       "33                         Very poor          Laptop/Desktop   \n",
       "34                               NaN                     NaN   \n",
       "35                           Average              Smartphone   \n",
       "36                         Very poor          Laptop/Desktop   \n",
       "37                           Average          Laptop/Desktop   \n",
       "38                         Very poor              Smartphone   \n",
       "39                               NaN                     NaN   \n",
       "40                              Good          Laptop/Desktop   \n",
       "41                         Very poor          Laptop/Desktop   \n",
       "42                         Very poor              Smartphone   \n",
       "43                         Very poor          Laptop/Desktop   \n",
       "44                           Average              Smartphone   \n",
       "45                         Very poor          Laptop/Desktop   \n",
       "46                         Very poor              Smartphone   \n",
       "47                         Very poor              Smartphone   \n",
       "48                         Very poor          Laptop/Desktop   \n",
       "49                              Good          Laptop/Desktop   \n",
       "\n",
       "    Time spent on self study  Time spent on fitness  Time spent on sleep  \\\n",
       "0                        4.0                    0.0                  7.0   \n",
       "1                        0.0                    2.0                 10.0   \n",
       "2                        3.0                    0.0                  6.0   \n",
       "3                        2.0                    1.0                  6.0   \n",
       "4                        3.0                    1.0                  8.0   \n",
       "5                        6.0                    0.0                  5.0   \n",
       "6                        2.0                    1.0                  5.0   \n",
       "7                        1.0                    1.0                 10.0   \n",
       "8                        4.0                    1.0                  8.0   \n",
       "9                        1.0                    0.5                  8.0   \n",
       "10                       3.0                    1.0                  8.0   \n",
       "11                       0.0                    1.0                  7.0   \n",
       "12                       0.0                    0.0                  8.0   \n",
       "13                       2.0                    0.0                  7.0   \n",
       "14                       1.0                    0.0                  8.0   \n",
       "15                       3.0                    1.0                  6.0   \n",
       "16                       0.0                    0.0                  8.0   \n",
       "17                       2.0                    1.0                  8.0   \n",
       "18                       4.0                    0.0                  7.0   \n",
       "19                       2.0                    1.0                  8.0   \n",
       "20                       5.0                    0.0                  6.0   \n",
       "21                       2.0                    1.0                 10.0   \n",
       "22                       1.0                    0.0                  8.0   \n",
       "23                       2.0                    1.0                  7.0   \n",
       "24                       4.0                    2.0                  9.0   \n",
       "25                       2.0                    0.0                  9.0   \n",
       "26                       5.0                    0.0                  8.0   \n",
       "27                       6.0                    0.0                  9.0   \n",
       "28                       4.0                    1.0                  6.0   \n",
       "29                       6.0                    1.0                  5.0   \n",
       "30                       5.0                    1.0                  7.0   \n",
       "31                      18.0                    1.0                  8.0   \n",
       "32                       5.0                    2.0                  4.0   \n",
       "33                       1.0                    0.0                  6.0   \n",
       "34                       6.0                    1.0                  6.0   \n",
       "35                       2.0                    1.0                  8.0   \n",
       "36                       1.0                    1.0                  7.0   \n",
       "37                       2.0                    0.0                  8.0   \n",
       "38                       2.0                    0.5                  8.0   \n",
       "39                       8.0                    0.0                  8.0   \n",
       "40                       4.0                    2.0                  6.0   \n",
       "41                       0.0                    0.0                 10.0   \n",
       "42                       2.0                    1.0                  8.0   \n",
       "43                       3.0                    1.0                  8.0   \n",
       "44                       2.0                    3.0                 12.0   \n",
       "45                       2.0                    0.0                  8.0   \n",
       "46                       6.0                    2.0                  7.0   \n",
       "47                       3.0                    0.0                  6.0   \n",
       "48                       4.0                    2.0                  8.0   \n",
       "49                       2.0                    0.0                  8.0   \n",
       "\n",
       "    Time spent on social media Prefered social media platform  \\\n",
       "0                          3.0                       Linkedin   \n",
       "1                          3.0                        Youtube   \n",
       "2                          2.0                       Linkedin   \n",
       "3                          5.0                      Instagram   \n",
       "4                          3.0                      Instagram   \n",
       "5                          1.0                        Youtube   \n",
       "6                          4.0                      Instagram   \n",
       "7                          5.0                      Instagram   \n",
       "8                          2.0                       Whatsapp   \n",
       "9                          5.0                      Instagram   \n",
       "10                         3.0                      Instagram   \n",
       "11                         3.0                      Instagram   \n",
       "12                         3.0                      Instagram   \n",
       "13                         0.0                           None   \n",
       "14                         3.0                      Instagram   \n",
       "15                         2.0                      Instagram   \n",
       "16                         2.0                         Reddit   \n",
       "17                         1.0                        Youtube   \n",
       "18                         7.0                        Youtube   \n",
       "19                         4.0                      Instagram   \n",
       "20                         2.0                       Linkedin   \n",
       "21                         5.0                      Instagram   \n",
       "22                         6.0                      Instagram   \n",
       "23                         1.0                       Linkedin   \n",
       "24                         2.0                      Instagram   \n",
       "25                         5.0                       Linkedin   \n",
       "26                         3.0                      Instagram   \n",
       "27                         2.0                       Whatsapp   \n",
       "28                         2.0                       Linkedin   \n",
       "29                         3.0                        Youtube   \n",
       "30                         2.0                       Whatsapp   \n",
       "31                         2.0                       Snapchat   \n",
       "32                         2.0                         Omegle   \n",
       "33                         2.0                       Linkedin   \n",
       "34                         5.0                      Instagram   \n",
       "35                         3.0                      Instagram   \n",
       "36                         1.5                      Instagram   \n",
       "37                         2.0                      Instagram   \n",
       "38                         2.0                       Linkedin   \n",
       "39                         0.0                        Youtube   \n",
       "40                         4.0                        Youtube   \n",
       "41                         8.0                        Youtube   \n",
       "42                         2.0                       Whatsapp   \n",
       "43                         1.0                      Instagram   \n",
       "44                         1.0                       Linkedin   \n",
       "45                         1.0                      Instagram   \n",
       "46                         1.0                      Instagram   \n",
       "47                         2.0                        Youtube   \n",
       "48                         2.0                        Twitter   \n",
       "49                         4.0                      Instagram   \n",
       "\n",
       "   Time spent on TV  Number of meals per day Change in your weight  \\\n",
       "0                 1                        4             Increased   \n",
       "1                 0                        3             Decreased   \n",
       "2                 0                        3       Remain Constant   \n",
       "3                 0                        3             Decreased   \n",
       "4                 1                        4       Remain Constant   \n",
       "5                 0                        1             Decreased   \n",
       "6                 0                        3             Increased   \n",
       "7                 0                        3             Increased   \n",
       "8                 1                        3             Increased   \n",
       "9                 3                        3             Decreased   \n",
       "10                1                        4       Remain Constant   \n",
       "11                1                        2             Increased   \n",
       "12                0                        3             Increased   \n",
       "13              0.5                        2             Increased   \n",
       "14                0                        3       Remain Constant   \n",
       "15                1                        3             Increased   \n",
       "16                1                        3             Increased   \n",
       "17                0                        3       Remain Constant   \n",
       "18                n                        2       Remain Constant   \n",
       "19                0                        3             Increased   \n",
       "20                1                        2             Decreased   \n",
       "21                2                        3       Remain Constant   \n",
       "22                1                        4             Decreased   \n",
       "23                0                        3             Decreased   \n",
       "24                1                        3             Decreased   \n",
       "25                3                        2             Increased   \n",
       "26                0                        2             Increased   \n",
       "27                0                        2       Remain Constant   \n",
       "28              0.5                        3       Remain Constant   \n",
       "29                0                        4       Remain Constant   \n",
       "30                1                        2             Decreased   \n",
       "31                0                        2             Decreased   \n",
       "32                0                        3       Remain Constant   \n",
       "33              0.5                        3             Decreased   \n",
       "34                0                        4             Increased   \n",
       "35                1                        3       Remain Constant   \n",
       "36                0                        3             Decreased   \n",
       "37                0                        3             Increased   \n",
       "38                2                        3             Increased   \n",
       "39                0                        3             Increased   \n",
       "40                0                        4             Increased   \n",
       "41                1                        4       Remain Constant   \n",
       "42                2                        4       Remain Constant   \n",
       "43                0                        2             Increased   \n",
       "44                0                        4       Remain Constant   \n",
       "45                0                        4             Increased   \n",
       "46                3                        6             Decreased   \n",
       "47                0                        3             Decreased   \n",
       "48                0                        4             Increased   \n",
       "49                0                        3       Remain Constant   \n",
       "\n",
       "   Health issue during lockdown                            Stress busters  \\\n",
       "0                            NO                                   Cooking   \n",
       "1                            NO            Scrolling through social media   \n",
       "2                            NO                        Listening to music   \n",
       "3                            NO                       Watching web series   \n",
       "4                            NO                              Social Media   \n",
       "5                           YES             Coding and studying for exams   \n",
       "6                            NO                       Watching web series   \n",
       "7                           YES            Scrolling through social media   \n",
       "8                            NO                            Online surfing   \n",
       "9                           YES                      live stream watching   \n",
       "10                           NO                              Social Media   \n",
       "11                          YES                       Watching web series   \n",
       "12                          YES                        Listening to music   \n",
       "13                           NO                                   Reading   \n",
       "14                           NO            Scrolling through social media   \n",
       "15                           NO                             Online gaming   \n",
       "16                           NO                             Online gaming   \n",
       "17                           NO                        Listening to music   \n",
       "18                           NO                             Reading books   \n",
       "19                           NO                                   Dancing   \n",
       "20                           NO                        Listening to music   \n",
       "21                           NO                     Talking with friends    \n",
       "22                           NO                       Watching web series   \n",
       "23                           NO                                   Dancing   \n",
       "24                           NO                             Reading books   \n",
       "25                           NO                 Talking to your relatives   \n",
       "26                          YES                        Listening to music   \n",
       "27                           NO                        Listening to music   \n",
       "28                           NO                        Listening to music   \n",
       "29                           NO  sketching,reading books,meditation,songs   \n",
       "30                          YES                        Listening to music   \n",
       "31                           NO                             Reading books   \n",
       "32                           NO          Watching orgasm releasing videos   \n",
       "33                          YES                       Watching web series   \n",
       "34                           NO                 Talking to your relatives   \n",
       "35                           NO                                   Cooking   \n",
       "36                           NO                             Reading books   \n",
       "37                           NO                                     Sleep   \n",
       "38                           NO                        Listening to music   \n",
       "39                           NO                             Reading books   \n",
       "40                           NO                              Social Media   \n",
       "41                           NO                       Watching web series   \n",
       "42                          YES                        Listening to music   \n",
       "43                           NO                        Listening to music   \n",
       "44                           NO                                     Sleep   \n",
       "45                           NO                                   Cooking   \n",
       "46                           NO                        Listening to music   \n",
       "47                          YES                             Reading books   \n",
       "48                           NO                        Listening to music   \n",
       "49                           NO                              Social Media   \n",
       "\n",
       "   Time utilized  \\\n",
       "0            YES   \n",
       "1            YES   \n",
       "2             NO   \n",
       "3             NO   \n",
       "4             NO   \n",
       "5             NO   \n",
       "6             NO   \n",
       "7             NO   \n",
       "8             NO   \n",
       "9             NO   \n",
       "10            NO   \n",
       "11           YES   \n",
       "12            NO   \n",
       "13           YES   \n",
       "14            NO   \n",
       "15           YES   \n",
       "16            NO   \n",
       "17            NO   \n",
       "18            NO   \n",
       "19           YES   \n",
       "20           YES   \n",
       "21           YES   \n",
       "22            NO   \n",
       "23           YES   \n",
       "24           YES   \n",
       "25           YES   \n",
       "26            NO   \n",
       "27            NO   \n",
       "28           YES   \n",
       "29            NO   \n",
       "30           YES   \n",
       "31           YES   \n",
       "32           YES   \n",
       "33           YES   \n",
       "34           YES   \n",
       "35            NO   \n",
       "36            NO   \n",
       "37            NO   \n",
       "38            NO   \n",
       "39            NO   \n",
       "40           YES   \n",
       "41           YES   \n",
       "42            NO   \n",
       "43            NO   \n",
       "44            NO   \n",
       "45            NO   \n",
       "46           YES   \n",
       "47            NO   \n",
       "48           YES   \n",
       "49           YES   \n",
       "\n",
       "   Do you find yourself more connected with your family, close friends , relatives  ?  \\\n",
       "0                                                 YES                                   \n",
       "1                                                  NO                                   \n",
       "2                                                 YES                                   \n",
       "3                                                  NO                                   \n",
       "4                                                  NO                                   \n",
       "5                                                 YES                                   \n",
       "6                                                 YES                                   \n",
       "7                                                 YES                                   \n",
       "8                                                  NO                                   \n",
       "9                                                  NO                                   \n",
       "10                                                 NO                                   \n",
       "11                                                YES                                   \n",
       "12                                                 NO                                   \n",
       "13                                                YES                                   \n",
       "14                                                 NO                                   \n",
       "15                                                YES                                   \n",
       "16                                                YES                                   \n",
       "17                                                 NO                                   \n",
       "18                                                 NO                                   \n",
       "19                                                YES                                   \n",
       "20                                                YES                                   \n",
       "21                                                 NO                                   \n",
       "22                                                YES                                   \n",
       "23                                                YES                                   \n",
       "24                                                 NO                                   \n",
       "25                                                YES                                   \n",
       "26                                                YES                                   \n",
       "27                                                 NO                                   \n",
       "28                                                YES                                   \n",
       "29                                                 NO                                   \n",
       "30                                                YES                                   \n",
       "31                                                YES                                   \n",
       "32                                                 NO                                   \n",
       "33                                                YES                                   \n",
       "34                                                 NO                                   \n",
       "35                                                YES                                   \n",
       "36                                                YES                                   \n",
       "37                                                YES                                   \n",
       "38                                                YES                                   \n",
       "39                                                YES                                   \n",
       "40                                                YES                                   \n",
       "41                                                 NO                                   \n",
       "42                                                 NO                                   \n",
       "43                                                 NO                                   \n",
       "44                                                 NO                                   \n",
       "45                                                YES                                   \n",
       "46                                                 NO                                   \n",
       "47                                                 NO                                   \n",
       "48                                                YES                                   \n",
       "49                                                YES                                   \n",
       "\n",
       "           What you miss the most  \n",
       "0                  School/college  \n",
       "1           Roaming around freely  \n",
       "2                      Travelling  \n",
       "3             Friends , relatives  \n",
       "4                      Travelling  \n",
       "5                  School/college  \n",
       "6             Friends , relatives  \n",
       "7                  Eating outside  \n",
       "8             Friends , relatives  \n",
       "9                  School/college  \n",
       "10                     Colleagues  \n",
       "11                 Eating outside  \n",
       "12                 School/college  \n",
       "13                     Travelling  \n",
       "14                 Eating outside  \n",
       "15                 Eating outside  \n",
       "16                     Colleagues  \n",
       "17          Roaming around freely  \n",
       "18            Friends , relatives  \n",
       "19            Friends , relatives  \n",
       "20          Roaming around freely  \n",
       "21                 School/college  \n",
       "22                 School/college  \n",
       "23                     Travelling  \n",
       "24                 School/college  \n",
       "25                 Eating outside  \n",
       "26                 School/college  \n",
       "27          Roaming around freely  \n",
       "28                            Job  \n",
       "29            Friends , relatives  \n",
       "30          Roaming around freely  \n",
       "31                     Travelling  \n",
       "32  Nothing this is my usual life  \n",
       "33            Friends , relatives  \n",
       "34                 Eating outside  \n",
       "35            Friends , relatives  \n",
       "36                     Travelling  \n",
       "37                 Eating outside  \n",
       "38                 School/college  \n",
       "39                     Travelling  \n",
       "40                     Travelling  \n",
       "41                     Travelling  \n",
       "42          Roaming around freely  \n",
       "43                 Eating outside  \n",
       "44            Friends , relatives  \n",
       "45                 Eating outside  \n",
       "46          Roaming around freely  \n",
       "47                 School/college  \n",
       "48                     Travelling  \n",
       "49                     Colleagues  "
      ]
     },
     "execution_count": 3,
     "metadata": {},
     "output_type": "execute_result"
    }
   ],
   "source": [
    "df.head(50)"
   ]
  },
  {
   "cell_type": "markdown",
   "id": "d7018ad8",
   "metadata": {},
   "source": [
    " - A cross-sectional survey is conducted with a students of different age groups from different educational institutions in        Delhi National Capital Region (NCR)."
   ]
  },
  {
   "cell_type": "markdown",
   "id": "24824727",
   "metadata": {},
   "source": [
    "### Insights of dataset"
   ]
  },
  {
   "cell_type": "code",
   "execution_count": 4,
   "id": "8b6fad86",
   "metadata": {},
   "outputs": [
    {
     "data": {
      "text/plain": [
       "(1182, 19)"
      ]
     },
     "execution_count": 4,
     "metadata": {},
     "output_type": "execute_result"
    }
   ],
   "source": [
    "# Shape of data set\n",
    "df.shape"
   ]
  },
  {
   "cell_type": "markdown",
   "id": "871fcf88",
   "metadata": {},
   "source": [
    " - The shape of the DatFrame is: (1182,19), which means there are 1182 rows and 19 columns."
   ]
  },
  {
   "cell_type": "markdown",
   "id": "dcd91e96",
   "metadata": {},
   "source": [
    "### Size of Dataset"
   ]
  },
  {
   "cell_type": "code",
   "execution_count": 5,
   "id": "f51c1744",
   "metadata": {},
   "outputs": [
    {
     "data": {
      "text/plain": [
       "22458"
      ]
     },
     "execution_count": 5,
     "metadata": {},
     "output_type": "execute_result"
    }
   ],
   "source": [
    "# size of dataset\n",
    "df.size"
   ]
  },
  {
   "cell_type": "markdown",
   "id": "0c320e46",
   "metadata": {},
   "source": [
    " - It has total 22458 values"
   ]
  },
  {
   "cell_type": "markdown",
   "id": "463f7436",
   "metadata": {},
   "source": [
    "### Checking for duplicate values of dataset"
   ]
  },
  {
   "cell_type": "code",
   "execution_count": 6,
   "id": "95970bcb",
   "metadata": {},
   "outputs": [
    {
     "data": {
      "text/plain": [
       "0"
      ]
     },
     "execution_count": 6,
     "metadata": {},
     "output_type": "execute_result"
    }
   ],
   "source": [
    "df.duplicated().sum()"
   ]
  },
  {
   "cell_type": "markdown",
   "id": "911e5a79",
   "metadata": {},
   "source": [
    " - There are no duplicate value in the dataset"
   ]
  },
  {
   "cell_type": "markdown",
   "id": "2a8f128e",
   "metadata": {},
   "source": [
    "### Detail info of Dataset"
   ]
  },
  {
   "cell_type": "code",
   "execution_count": 7,
   "id": "57b7e621",
   "metadata": {},
   "outputs": [
    {
     "name": "stdout",
     "output_type": "stream",
     "text": [
      "<class 'pandas.core.frame.DataFrame'>\n",
      "RangeIndex: 1182 entries, 0 to 1181\n",
      "Data columns (total 19 columns):\n",
      " #   Column                                                                              Non-Null Count  Dtype  \n",
      "---  ------                                                                              --------------  -----  \n",
      " 0   ID                                                                                  1182 non-null   object \n",
      " 1   Region of residence                                                                 1182 non-null   object \n",
      " 2   Age of Subject                                                                      1182 non-null   int64  \n",
      " 3   Time spent on Online Class                                                          1182 non-null   float64\n",
      " 4   Rating of Online Class experience                                                   1158 non-null   object \n",
      " 5   Medium for online class                                                             1131 non-null   object \n",
      " 6   Time spent on self study                                                            1182 non-null   float64\n",
      " 7   Time spent on fitness                                                               1182 non-null   float64\n",
      " 8   Time spent on sleep                                                                 1182 non-null   float64\n",
      " 9   Time spent on social media                                                          1182 non-null   float64\n",
      " 10  Prefered social media platform                                                      1182 non-null   object \n",
      " 11  Time spent on TV                                                                    1182 non-null   object \n",
      " 12  Number of meals per day                                                             1182 non-null   int64  \n",
      " 13  Change in your weight                                                               1182 non-null   object \n",
      " 14  Health issue during lockdown                                                        1182 non-null   object \n",
      " 15  Stress busters                                                                      1182 non-null   object \n",
      " 16  Time utilized                                                                       1182 non-null   object \n",
      " 17  Do you find yourself more connected with your family, close friends , relatives  ?  1182 non-null   object \n",
      " 18  What you miss the most                                                              1182 non-null   object \n",
      "dtypes: float64(5), int64(2), object(12)\n",
      "memory usage: 175.6+ KB\n"
     ]
    }
   ],
   "source": [
    "df.info()"
   ]
  },
  {
   "cell_type": "markdown",
   "id": "a28806ec",
   "metadata": {},
   "source": [
    " - There are total 19 columns.\n",
    " - In that 2 are integer columns, 5 are flotting value columns and 12 are categorical columns.\n",
    " - There is missing data in columns such as Rating of Online Class experience and Medium for online class."
   ]
  },
  {
   "cell_type": "markdown",
   "id": "90bf5f82",
   "metadata": {},
   "source": [
    "## Pre-Processing of the data"
   ]
  },
  {
   "cell_type": "markdown",
   "id": "7db5e191",
   "metadata": {},
   "source": [
    "### 1. Missing Data Treatment"
   ]
  },
  {
   "cell_type": "code",
   "execution_count": 8,
   "id": "9063f91b",
   "metadata": {},
   "outputs": [
    {
     "data": {
      "text/plain": [
       "ID                                                                                     0\n",
       "Region of residence                                                                    0\n",
       "Age of Subject                                                                         0\n",
       "Time spent on Online Class                                                             0\n",
       "Rating of Online Class experience                                                     24\n",
       "Medium for online class                                                               51\n",
       "Time spent on self study                                                               0\n",
       "Time spent on fitness                                                                  0\n",
       "Time spent on sleep                                                                    0\n",
       "Time spent on social media                                                             0\n",
       "Prefered social media platform                                                         0\n",
       "Time spent on TV                                                                       0\n",
       "Number of meals per day                                                                0\n",
       "Change in your weight                                                                  0\n",
       "Health issue during lockdown                                                           0\n",
       "Stress busters                                                                         0\n",
       "Time utilized                                                                          0\n",
       "Do you find yourself more connected with your family, close friends , relatives  ?     0\n",
       "What you miss the most                                                                 0\n",
       "dtype: int64"
      ]
     },
     "execution_count": 8,
     "metadata": {},
     "output_type": "execute_result"
    }
   ],
   "source": [
    "df.isna().sum()"
   ]
  },
  {
   "cell_type": "code",
   "execution_count": 9,
   "id": "e6749cd3",
   "metadata": {},
   "outputs": [],
   "source": [
    "obj = []\n",
    "num = []\n",
    "for i in df.columns:\n",
    "    if(df[i].dtypes =='object'):\n",
    "        obj.append(i)\n",
    "    else:\n",
    "        num.append(i)\n",
    "    "
   ]
  },
  {
   "cell_type": "code",
   "execution_count": 10,
   "id": "28d8581b",
   "metadata": {},
   "outputs": [
    {
     "data": {
      "text/plain": [
       "['ID',\n",
       " 'Region of residence',\n",
       " 'Rating of Online Class experience',\n",
       " 'Medium for online class',\n",
       " 'Prefered social media platform',\n",
       " 'Time spent on TV',\n",
       " 'Change in your weight',\n",
       " 'Health issue during lockdown',\n",
       " 'Stress busters',\n",
       " 'Time utilized',\n",
       " 'Do you find yourself more connected with your family, close friends , relatives  ?',\n",
       " 'What you miss the most']"
      ]
     },
     "execution_count": 10,
     "metadata": {},
     "output_type": "execute_result"
    }
   ],
   "source": [
    "obj"
   ]
  },
  {
   "cell_type": "code",
   "execution_count": 11,
   "id": "b38fc553",
   "metadata": {},
   "outputs": [
    {
     "data": {
      "text/plain": [
       "['Age of Subject',\n",
       " 'Time spent on Online Class',\n",
       " 'Time spent on self study',\n",
       " 'Time spent on fitness',\n",
       " 'Time spent on sleep',\n",
       " 'Time spent on social media',\n",
       " 'Number of meals per day']"
      ]
     },
     "execution_count": 11,
     "metadata": {},
     "output_type": "execute_result"
    }
   ],
   "source": [
    "num"
   ]
  },
  {
   "cell_type": "code",
   "execution_count": 12,
   "id": "32b68710",
   "metadata": {},
   "outputs": [],
   "source": [
    "for i in obj:  \n",
    "    x = df[i].mode()[0]  \n",
    "    df[i]= df[i].fillna(x)\n",
    "for i in num:\n",
    "    x = df[i].mean()\n",
    "    df[i]= df[i].fillna(x)"
   ]
  },
  {
   "cell_type": "code",
   "execution_count": 13,
   "id": "372df577",
   "metadata": {},
   "outputs": [
    {
     "data": {
      "text/plain": [
       "ID                                                                                    0\n",
       "Region of residence                                                                   0\n",
       "Age of Subject                                                                        0\n",
       "Time spent on Online Class                                                            0\n",
       "Rating of Online Class experience                                                     0\n",
       "Medium for online class                                                               0\n",
       "Time spent on self study                                                              0\n",
       "Time spent on fitness                                                                 0\n",
       "Time spent on sleep                                                                   0\n",
       "Time spent on social media                                                            0\n",
       "Prefered social media platform                                                        0\n",
       "Time spent on TV                                                                      0\n",
       "Number of meals per day                                                               0\n",
       "Change in your weight                                                                 0\n",
       "Health issue during lockdown                                                          0\n",
       "Stress busters                                                                        0\n",
       "Time utilized                                                                         0\n",
       "Do you find yourself more connected with your family, close friends , relatives  ?    0\n",
       "What you miss the most                                                                0\n",
       "dtype: int64"
      ]
     },
     "execution_count": 13,
     "metadata": {},
     "output_type": "execute_result"
    }
   ],
   "source": [
    "df.isna().sum()"
   ]
  },
  {
   "cell_type": "markdown",
   "id": "e5c64d23",
   "metadata": {},
   "source": [
    "### Observation :"
   ]
  },
  {
   "cell_type": "markdown",
   "id": "64b2c111",
   "metadata": {},
   "source": [
    "- In this data set there are some missing values so we have to treat with missing values using isna() function. \n",
    "- After executing this function, we get missing values in  **Rating of Online Class experience'** and **'Medium for online         class'** hence we have to remove missing values in this columns. here **Rating of Online Class experience'** and **'Medium       for online class'** are categorical columns, so we have to fill this missing values with Mode. "
   ]
  },
  {
   "cell_type": "markdown",
   "id": "395b2495",
   "metadata": {},
   "source": [
    "### 2. Detail desctibption of dataset"
   ]
  },
  {
   "cell_type": "code",
   "execution_count": 14,
   "id": "c61cc7c2",
   "metadata": {},
   "outputs": [
    {
     "data": {
      "text/html": [
       "<div>\n",
       "<style scoped>\n",
       "    .dataframe tbody tr th:only-of-type {\n",
       "        vertical-align: middle;\n",
       "    }\n",
       "\n",
       "    .dataframe tbody tr th {\n",
       "        vertical-align: top;\n",
       "    }\n",
       "\n",
       "    .dataframe thead th {\n",
       "        text-align: right;\n",
       "    }\n",
       "</style>\n",
       "<table border=\"1\" class=\"dataframe\">\n",
       "  <thead>\n",
       "    <tr style=\"text-align: right;\">\n",
       "      <th></th>\n",
       "      <th>Age of Subject</th>\n",
       "      <th>Time spent on Online Class</th>\n",
       "      <th>Time spent on self study</th>\n",
       "      <th>Time spent on fitness</th>\n",
       "      <th>Time spent on sleep</th>\n",
       "      <th>Time spent on social media</th>\n",
       "      <th>Number of meals per day</th>\n",
       "    </tr>\n",
       "  </thead>\n",
       "  <tbody>\n",
       "    <tr>\n",
       "      <th>count</th>\n",
       "      <td>1182.000000</td>\n",
       "      <td>1182.000000</td>\n",
       "      <td>1182.000000</td>\n",
       "      <td>1182.000000</td>\n",
       "      <td>1182.000000</td>\n",
       "      <td>1182.000000</td>\n",
       "      <td>1182.000000</td>\n",
       "    </tr>\n",
       "    <tr>\n",
       "      <th>mean</th>\n",
       "      <td>20.165821</td>\n",
       "      <td>3.208841</td>\n",
       "      <td>2.911591</td>\n",
       "      <td>0.765821</td>\n",
       "      <td>7.871235</td>\n",
       "      <td>2.365694</td>\n",
       "      <td>2.917936</td>\n",
       "    </tr>\n",
       "    <tr>\n",
       "      <th>std</th>\n",
       "      <td>5.516467</td>\n",
       "      <td>2.101756</td>\n",
       "      <td>2.140590</td>\n",
       "      <td>0.724451</td>\n",
       "      <td>1.615762</td>\n",
       "      <td>1.767336</td>\n",
       "      <td>0.828698</td>\n",
       "    </tr>\n",
       "    <tr>\n",
       "      <th>min</th>\n",
       "      <td>7.000000</td>\n",
       "      <td>0.000000</td>\n",
       "      <td>0.000000</td>\n",
       "      <td>0.000000</td>\n",
       "      <td>4.000000</td>\n",
       "      <td>0.000000</td>\n",
       "      <td>1.000000</td>\n",
       "    </tr>\n",
       "    <tr>\n",
       "      <th>25%</th>\n",
       "      <td>17.000000</td>\n",
       "      <td>2.000000</td>\n",
       "      <td>2.000000</td>\n",
       "      <td>0.000000</td>\n",
       "      <td>7.000000</td>\n",
       "      <td>1.000000</td>\n",
       "      <td>2.000000</td>\n",
       "    </tr>\n",
       "    <tr>\n",
       "      <th>50%</th>\n",
       "      <td>20.000000</td>\n",
       "      <td>3.000000</td>\n",
       "      <td>2.000000</td>\n",
       "      <td>1.000000</td>\n",
       "      <td>8.000000</td>\n",
       "      <td>2.000000</td>\n",
       "      <td>3.000000</td>\n",
       "    </tr>\n",
       "    <tr>\n",
       "      <th>75%</th>\n",
       "      <td>21.000000</td>\n",
       "      <td>5.000000</td>\n",
       "      <td>4.000000</td>\n",
       "      <td>1.000000</td>\n",
       "      <td>9.000000</td>\n",
       "      <td>3.000000</td>\n",
       "      <td>3.000000</td>\n",
       "    </tr>\n",
       "    <tr>\n",
       "      <th>max</th>\n",
       "      <td>59.000000</td>\n",
       "      <td>10.000000</td>\n",
       "      <td>18.000000</td>\n",
       "      <td>5.000000</td>\n",
       "      <td>15.000000</td>\n",
       "      <td>10.000000</td>\n",
       "      <td>8.000000</td>\n",
       "    </tr>\n",
       "  </tbody>\n",
       "</table>\n",
       "</div>"
      ],
      "text/plain": [
       "       Age of Subject  Time spent on Online Class  Time spent on self study  \\\n",
       "count     1182.000000                 1182.000000               1182.000000   \n",
       "mean        20.165821                    3.208841                  2.911591   \n",
       "std          5.516467                    2.101756                  2.140590   \n",
       "min          7.000000                    0.000000                  0.000000   \n",
       "25%         17.000000                    2.000000                  2.000000   \n",
       "50%         20.000000                    3.000000                  2.000000   \n",
       "75%         21.000000                    5.000000                  4.000000   \n",
       "max         59.000000                   10.000000                 18.000000   \n",
       "\n",
       "       Time spent on fitness  Time spent on sleep  Time spent on social media  \\\n",
       "count            1182.000000          1182.000000                 1182.000000   \n",
       "mean                0.765821             7.871235                    2.365694   \n",
       "std                 0.724451             1.615762                    1.767336   \n",
       "min                 0.000000             4.000000                    0.000000   \n",
       "25%                 0.000000             7.000000                    1.000000   \n",
       "50%                 1.000000             8.000000                    2.000000   \n",
       "75%                 1.000000             9.000000                    3.000000   \n",
       "max                 5.000000            15.000000                   10.000000   \n",
       "\n",
       "       Number of meals per day  \n",
       "count              1182.000000  \n",
       "mean                  2.917936  \n",
       "std                   0.828698  \n",
       "min                   1.000000  \n",
       "25%                   2.000000  \n",
       "50%                   3.000000  \n",
       "75%                   3.000000  \n",
       "max                   8.000000  "
      ]
     },
     "execution_count": 14,
     "metadata": {},
     "output_type": "execute_result"
    }
   ],
   "source": [
    "df.describe()"
   ]
  },
  {
   "cell_type": "markdown",
   "id": "815dd4a3",
   "metadata": {},
   "source": [
    " - People from age 7 to uptill 59 are studying online during covid-19 situation.\n",
    " - Average time spend on the online classes is 3 hours ~ 3 & a half.(we can say)\n",
    " - Average time given to self study : 2.9 hours ~ almost 3 hours.\n",
    " - Average time given to fitness/health : 1 hour.\n",
    " - Average time spend on social media : 2.36 hours.\n",
    " - Average meal people are getting : nearly 3 time/day."
   ]
  },
  {
   "cell_type": "markdown",
   "id": "20ffd1ab",
   "metadata": {},
   "source": [
    "### Renaming a columns"
   ]
  },
  {
   "cell_type": "code",
   "execution_count": 15,
   "id": "f9509f7e",
   "metadata": {},
   "outputs": [],
   "source": [
    "df.rename(columns = {'Region of residence': 'region','Age of Subject': 'age','Time spent on Online Class': 'time_online_class',\n",
    "                     'Rating of Online Class experience': 'rating_online_class','Medium for online class': 'medium',\n",
    "                     'Time spent on self study': 'time_self_study','Time spent on fitness': 'time_fitness',\n",
    "                     'Time spent on sleep': 'time_sleep','Time spent on social media': 'time_social_media',\n",
    "                     'Prefered social media platform': 'prefered_social_media','Time spent on TV': 'time_tv',\n",
    "                     'Number of meals per day': 'num_meals_per_day','Change in your weight': 'delta_weight',\n",
    "                     'Health issue during lockdown': 'health_issue_in_lockdown','Stress busters': 'stress_busters',\n",
    "                     'Time utilized': 'time_utilized','Do you find yourself more connected with your family, close friends , relatives  ?': 'more_family_connected',\n",
    "                     'What you miss the most': 'miss_most'}, inplace = True)"
   ]
  },
  {
   "cell_type": "code",
   "execution_count": 16,
   "id": "f06593a0",
   "metadata": {},
   "outputs": [
    {
     "data": {
      "text/plain": [
       "Instagram    352\n",
       "Whatsapp     336\n",
       "Youtube      314\n",
       "Linkedin      61\n",
       "Facebook      52\n",
       "Twitter       28\n",
       "None          17\n",
       "Snapchat       8\n",
       "Reddit         5\n",
       "Telegram       3\n",
       "Omegle         1\n",
       "Elyment        1\n",
       "None           1\n",
       "Quora          1\n",
       "Talklife       1\n",
       "WhatsApp       1\n",
       "Name: prefered_social_media, dtype: int64"
      ]
     },
     "execution_count": 16,
     "metadata": {},
     "output_type": "execute_result"
    }
   ],
   "source": [
    "df['prefered_social_media'].value_counts()"
   ]
  },
  {
   "cell_type": "code",
   "execution_count": 17,
   "id": "ae02ed02",
   "metadata": {},
   "outputs": [
    {
     "data": {
      "text/plain": [
       "array(['Linkedin', 'Youtube', 'Instagram', 'Whatsapp', 'None', 'Reddit',\n",
       "       'Snapchat', 'Omegle', 'Twitter', 'Telegram', 'Facebook', 'Elyment',\n",
       "       'None ', 'Quora', 'Talklife', 'WhatsApp'], dtype=object)"
      ]
     },
     "execution_count": 17,
     "metadata": {},
     "output_type": "execute_result"
    }
   ],
   "source": [
    "df['prefered_social_media'].unique()"
   ]
  },
  {
   "cell_type": "code",
   "execution_count": 18,
   "id": "c33934a8",
   "metadata": {},
   "outputs": [
    {
     "data": {
      "text/plain": [
       "Instagram    352\n",
       "WhatsApp     337\n",
       "Youtube      314\n",
       "Linkedin      61\n",
       "Facebook      52\n",
       "Twitter       28\n",
       "None          18\n",
       "Snapchat       8\n",
       "Reddit         5\n",
       "Telegram       3\n",
       "Omegle         1\n",
       "Elyment        1\n",
       "Quora          1\n",
       "Talklife       1\n",
       "Name: prefered_social_media, dtype: int64"
      ]
     },
     "execution_count": 18,
     "metadata": {},
     "output_type": "execute_result"
    }
   ],
   "source": [
    "df['prefered_social_media'].replace('None ', 'None', inplace = True)\n",
    "df['prefered_social_media'].replace('Whatsapp', 'WhatsApp', inplace = True)\n",
    "df['prefered_social_media'].value_counts()"
   ]
  },
  {
   "cell_type": "code",
   "execution_count": 19,
   "id": "cd392946",
   "metadata": {},
   "outputs": [
    {
     "data": {
      "text/plain": [
       "array(['1', '0', '3', '0.5', 'n', '2', '4.5', '1.5', 'N', '4', '0.3', '5',\n",
       "       'No tv', '0.1', '0.25', '6', '0.6', '7', '8', '15', ' ', '0.75',\n",
       "       '2.5', '3.5', '0.4'], dtype=object)"
      ]
     },
     "execution_count": 19,
     "metadata": {},
     "output_type": "execute_result"
    }
   ],
   "source": [
    "df['time_tv'].unique()"
   ]
  },
  {
   "cell_type": "code",
   "execution_count": 20,
   "id": "8cad7826",
   "metadata": {},
   "outputs": [],
   "source": [
    "# Replacing 'n', 'N, 'no', empty etc. with 0.\n",
    "df['time_tv'].replace({'n':'0', 'N':'0', 'No tv':'0', ' ':'0', 0:'0'}, inplace = True)"
   ]
  },
  {
   "cell_type": "code",
   "execution_count": 21,
   "id": "912948ec",
   "metadata": {},
   "outputs": [],
   "source": [
    "# Changing the datatype for this column to float instead of object.\n",
    "\n",
    "df['time_tv'] = df['time_tv'].astype('float', copy = True)"
   ]
  },
  {
   "cell_type": "code",
   "execution_count": 22,
   "id": "169a4b34",
   "metadata": {},
   "outputs": [
    {
     "data": {
      "text/plain": [
       "array(['Cooking', 'Scrolling through social media', 'Listening to music',\n",
       "       'Watching web series', 'Social Media',\n",
       "       'Coding and studying for exams', 'Online surfing',\n",
       "       'live stream watching', 'Reading', 'Online gaming',\n",
       "       'Reading books', 'Dancing', 'Talking with friends ',\n",
       "       'Talking to your relatives',\n",
       "       'sketching,reading books,meditation,songs',\n",
       "       'Watching orgasm releasing videos', 'Sleep', 'Crying',\n",
       "       'Many of these', 'Web Series', 'drawing ', 'Meditation', 'Cricket',\n",
       "       'Anime Manga', 'Sleeping', 'Sketching and writing', 'Writing',\n",
       "       'pubg', 'Talking', 'Workout ', 'Whatever want', 'Indoor Games',\n",
       "       'watching movies,reading books,games,listening to music,sleep,dancing',\n",
       "       'gardening cartoon',\n",
       "       'listening to music,reading books and dancing.',\n",
       "       'Dont get distreessed',\n",
       "       ' listening music, motion design, graphic design, sleeping.',\n",
       "       'Business', 'Many among these ', 'Talk with childhood friends.',\n",
       "       'Playing ', 'Exercise', 'Talking to friends',\n",
       "       'Netflix, Friends and Books', 'Driving', 'I run', 'Running',\n",
       "       'Exercising', 'Football', 'singing', 'Cardio',\n",
       "       'I cant de-stress myslef',\n",
       "       'working out and some physical activity',\n",
       "       'Writing my own Comics & novels', 'Gym',\n",
       "       'I have no problem of stress ', 'workout',\n",
       "       'No able to reduce the stress ', 'Sleeping, Online games',\n",
       "       'By engaging in my work.', 'Work', 'Painting,. Sewing', 'Drawing',\n",
       "       'Forming ', 'Workout and listening music',\n",
       "       'Both listining music and scrolling down social media', 'Painting',\n",
       "       'Sketching', 'Sports', 'Drawing and painting and sketching',\n",
       "       'With a friend', 'Reading books, music, exercise',\n",
       "       'Watching ted talks and music and books', 'Calling friends',\n",
       "       'no stress', 'Drawing, painting',\n",
       "       'All reading books watching web series listening to music and talking to friends',\n",
       "       'Do some home related stuff', 'Painting ', 'Youtube',\n",
       "       'Taking with parents',\n",
       "       'Online gaming , surfing and listening to music ',\n",
       "       'I play Rubiks cube',\n",
       "       'Listening to music and reading books both . ',\n",
       "       'Poetry, writing books and novels , listening to music too',\n",
       "       'Watching YouTube '], dtype=object)"
      ]
     },
     "execution_count": 22,
     "metadata": {},
     "output_type": "execute_result"
    }
   ],
   "source": [
    "df['stress_busters'].unique()"
   ]
  },
  {
   "cell_type": "code",
   "execution_count": 23,
   "id": "1c93f069",
   "metadata": {},
   "outputs": [],
   "source": [
    "df['stress_busters'].replace([['Sleep'],['Scrolling through social media'],['Reading books'],['Talking to your relatives']], \n",
    "                             ['Sleeping', 'Social Media', 'Reading', 'Talking'], inplace = True)"
   ]
  },
  {
   "cell_type": "code",
   "execution_count": 24,
   "id": "7f9880e2",
   "metadata": {},
   "outputs": [],
   "source": [
    "df['stress_busters'].replace(['Exercising','Exercise','Gym','Workout ','Cardio','workout',\n",
    "                              'working out and some physical activity'],'Exercise/Gym', inplace = True)"
   ]
  },
  {
   "cell_type": "code",
   "execution_count": 25,
   "id": "07b78548",
   "metadata": {},
   "outputs": [],
   "source": [
    "df['stress_busters'].replace(['Talking with friends ','Talking','Talking to friends','With a friend',\n",
    "                              'Calling friends','Taking with parents','Talk with childhood friends.'],'Talking', inplace = True)"
   ]
  },
  {
   "cell_type": "code",
   "execution_count": 26,
   "id": "2fb29c72",
   "metadata": {},
   "outputs": [],
   "source": [
    "df['stress_busters'].replace(['Listening to music',' listening music, motion design, graphic design, sleeping.',\n",
    "                              'singing','Workout and listening music','Both listining music and scrolling down social media',\n",
    "                              'Listening to music and reading books both . ','Poetry, writing books and novels , listening to music too'], \n",
    "                             'Music', inplace = True)"
   ]
  },
  {
   "cell_type": "code",
   "execution_count": 27,
   "id": "8ade205c",
   "metadata": {},
   "outputs": [],
   "source": [
    "df['stress_busters'].replace(['Online surfing','live stream watching','Watching orgasm releasing videos','Anime Manga',\n",
    "                              'Watching ted talks and music and books','Watching YouTube ','Internet',\n",
    "                              'Online gaming , surfing and listening to music ','Web Series','Watching web series',\n",
    "                              'Netflix, Friends and Books','Youtube'], 'Internet Surfing', inplace=True)"
   ]
  },
  {
   "cell_type": "code",
   "execution_count": 28,
   "id": "55758ab1",
   "metadata": {},
   "outputs": [],
   "source": [
    "df['stress_busters'].replace(['Coding and studying for exams','sketching,reading books,meditation,songs','Many of these',\n",
    "                              'All reading books watching web series listening to music and talking to friends','Many among these ',\n",
    "                              'Do some home related stuff','watching movies,reading books,games,listening to music,sleep,dancing',\n",
    "                              'Reading books, music, exercise','Whatever want','listening to music,reading books and dancing.'],\n",
    "                             'Many Things', inplace=True)"
   ]
  },
  {
   "cell_type": "code",
   "execution_count": 29,
   "id": "48d1e728",
   "metadata": {},
   "outputs": [],
   "source": [
    "df['stress_busters'].replace(['Reading','drawing','Dancing','Meditation','Driving','Drawing, painting','Forming ','Painting',\n",
    "                              'Sketching','Sports','Painting ','Drawing','Football','Business','Running','I run',\n",
    "                              'Drawing and painting and sketching','I play Rubiks cube','Indoor Games','I cant de-stress myslef',\n",
    "                              'Writing my own Comics & novels','I have no problem of stress ','Sketching and writing',\n",
    "                              'By engaging in my work.', 'Work','Painting,. Sewing','Crying','Dont get distreessed','gardening cartoon',\n",
    "                              'Playing ','no stress','Cricket','No able to reduce the stress ','drawing ','Writing'],\n",
    "                             'Doing Extra Activities', inplace=True)"
   ]
  },
  {
   "cell_type": "code",
   "execution_count": 30,
   "id": "ad2c9bd6",
   "metadata": {},
   "outputs": [],
   "source": [
    "df['stress_busters'].replace(['Sleeping, Online games','pubg'],'Online gaming', inplace=True)"
   ]
  },
  {
   "cell_type": "code",
   "execution_count": 31,
   "id": "4cd18f2e",
   "metadata": {},
   "outputs": [
    {
     "data": {
      "text/plain": [
       "array(['Cooking', 'Social Media', 'Music', 'Internet Surfing',\n",
       "       'Many Things', 'Doing Extra Activities', 'Online gaming',\n",
       "       'Talking', 'Sleeping', 'Exercise/Gym'], dtype=object)"
      ]
     },
     "execution_count": 31,
     "metadata": {},
     "output_type": "execute_result"
    }
   ],
   "source": [
    "df['stress_busters'].unique()"
   ]
  },
  {
   "cell_type": "code",
   "execution_count": 32,
   "id": "49822190",
   "metadata": {},
   "outputs": [
    {
     "data": {
      "text/plain": [
       "Music                     282\n",
       "Doing Extra Activities    209\n",
       "Internet Surfing          183\n",
       "Online gaming             177\n",
       "Sleeping                  105\n",
       "Social Media              100\n",
       "Talking                    62\n",
       "Cooking                    41\n",
       "Exercise/Gym               13\n",
       "Many Things                10\n",
       "Name: stress_busters, dtype: int64"
      ]
     },
     "execution_count": 32,
     "metadata": {},
     "output_type": "execute_result"
    }
   ],
   "source": [
    "df['stress_busters'].value_counts()"
   ]
  },
  {
   "cell_type": "code",
   "execution_count": 33,
   "id": "c644c2ab",
   "metadata": {},
   "outputs": [
    {
     "data": {
      "text/plain": [
       "array(['School/college', 'Roaming around freely', 'Travelling',\n",
       "       'Friends , relatives', 'Eating outside', 'Colleagues', 'Job',\n",
       "       'Nothing this is my usual life', 'Gym', 'All of them',\n",
       "       'Friends and School', 'Friends,Romaing and traveling',\n",
       "       'Only friends', 'Taking kids to park', 'All of the above ',\n",
       "       'All the above', 'Internet', 'Going to the movies', 'Nothing',\n",
       "       'school, relatives and friends', 'All ', 'All', 'all of the above',\n",
       "       'Nothing ', 'Eating outside and friends.', 'All above',\n",
       "       'Nah, this is my usual lifestyle anyway, just being lazy....',\n",
       "       'Family ', 'Football', 'Normal life',\n",
       "       'The idea of being around fun loving people but this time has certainly made us all to reconnect (and fill the gap if any) with our families and relatives so it is fun but certainly we do miss hanging out with friends',\n",
       "       'My normal routine', 'ALL', 'NOTHING', 'Being social ',\n",
       "       'Previous mistakes', 'all', 'nothing', 'Playing', '.',\n",
       "       'I have missed nothing ', 'Travelling & Friends',\n",
       "       'To stay alone. ', 'Family', 'Badminton in court',\n",
       "       'Friends, relatives & travelling', 'everything',\n",
       "       'Friends and roaming around freely', 'Metro',\n",
       "       'School and friends.', 'School and my school friends'],\n",
       "      dtype=object)"
      ]
     },
     "execution_count": 33,
     "metadata": {},
     "output_type": "execute_result"
    }
   ],
   "source": [
    "df['miss_most'].unique()"
   ]
  },
  {
   "cell_type": "code",
   "execution_count": 34,
   "id": "3009ae2b",
   "metadata": {},
   "outputs": [],
   "source": [
    "df['miss_most'].replace(['All the above','All of the above ','everything','All above','all of the above','ALL','all',\n",
    "        'All of the above','all of them','All of them','All '],'All', inplace=True)"
   ]
  },
  {
   "cell_type": "code",
   "execution_count": 35,
   "id": "7f572ba9",
   "metadata": {},
   "outputs": [],
   "source": [
    "df['miss_most'].replace(['NOTHING','Nothing this is my usual life','To stay alone. ','Nothing ','Nah, this is my usual lifestyle anyway, just being lazy....',\n",
    "        'Normal life','My normal routine','nothing','Job','I have missed nothing','Previous mistakes','.','I have missed nothing ',\n",
    "        'Internet'],'Nothing', inplace=True)"
   ]
  },
  {
   "cell_type": "code",
   "execution_count": 36,
   "id": "5b499cd4",
   "metadata": {},
   "outputs": [],
   "source": [
    "df['miss_most'].replace(['Only friends','Friends , relatives','relatives and friends','Family ',\n",
    "        'The idea of being around fun loving people but this time has certainly made us all to reconnect (and fill the gap if any) with our families and relatives so it is fun but certainly we do miss hanging out with friends',\n",
    "        'Family','Friends, relatives & travelling','Travelling & Friends','School and friends','Friends and School',\n",
    "        'Eating outside and friends.','School and friends.','school, relatives and friends','School and my school friends'],\n",
    "        'Friends/Relatives/Family', inplace=True)"
   ]
  },
  {
   "cell_type": "code",
   "execution_count": 37,
   "id": "9906c1e3",
   "metadata": {},
   "outputs": [],
   "source": [
    "df['miss_most'].replace(['Playing','Roaming around freely','Taking kids to park','Being social ','Friends and roaming around freely',\n",
    "                         'Friends,Romaing and traveling','Metro','Going to the movies','Gym','Football','Badminton in court'],\n",
    "                        'Passing Time Outside', inplace=True)"
   ]
  },
  {
   "cell_type": "code",
   "execution_count": 38,
   "id": "3d5ea978",
   "metadata": {},
   "outputs": [
    {
     "data": {
      "text/plain": [
       "array(['School/college', 'Passing Time Outside', 'Travelling',\n",
       "       'Friends/Relatives/Family', 'Eating outside', 'Colleagues',\n",
       "       'Nothing', 'All'], dtype=object)"
      ]
     },
     "execution_count": 38,
     "metadata": {},
     "output_type": "execute_result"
    }
   ],
   "source": [
    "df['miss_most'].unique()"
   ]
  },
  {
   "cell_type": "code",
   "execution_count": 39,
   "id": "436cc170",
   "metadata": {},
   "outputs": [
    {
     "data": {
      "text/plain": [
       "School/college              379\n",
       "Friends/Relatives/Family    235\n",
       "Travelling                  183\n",
       "Passing Time Outside        162\n",
       "Eating outside              104\n",
       "Colleagues                   67\n",
       "Nothing                      26\n",
       "All                          26\n",
       "Name: miss_most, dtype: int64"
      ]
     },
     "execution_count": 39,
     "metadata": {},
     "output_type": "execute_result"
    }
   ],
   "source": [
    "df['miss_most'].value_counts()"
   ]
  },
  {
   "cell_type": "code",
   "execution_count": 40,
   "id": "e7205869",
   "metadata": {},
   "outputs": [
    {
     "data": {
      "text/html": [
       "<div>\n",
       "<style scoped>\n",
       "    .dataframe tbody tr th:only-of-type {\n",
       "        vertical-align: middle;\n",
       "    }\n",
       "\n",
       "    .dataframe tbody tr th {\n",
       "        vertical-align: top;\n",
       "    }\n",
       "\n",
       "    .dataframe thead th {\n",
       "        text-align: right;\n",
       "    }\n",
       "</style>\n",
       "<table border=\"1\" class=\"dataframe\">\n",
       "  <thead>\n",
       "    <tr style=\"text-align: right;\">\n",
       "      <th></th>\n",
       "      <th>ID</th>\n",
       "      <th>region</th>\n",
       "      <th>age</th>\n",
       "      <th>time_online_class</th>\n",
       "      <th>rating_online_class</th>\n",
       "      <th>medium</th>\n",
       "      <th>time_self_study</th>\n",
       "      <th>time_fitness</th>\n",
       "      <th>time_sleep</th>\n",
       "      <th>time_social_media</th>\n",
       "      <th>prefered_social_media</th>\n",
       "      <th>time_tv</th>\n",
       "      <th>num_meals_per_day</th>\n",
       "      <th>delta_weight</th>\n",
       "      <th>health_issue_in_lockdown</th>\n",
       "      <th>stress_busters</th>\n",
       "      <th>time_utilized</th>\n",
       "      <th>more_family_connected</th>\n",
       "      <th>miss_most</th>\n",
       "    </tr>\n",
       "  </thead>\n",
       "  <tbody>\n",
       "    <tr>\n",
       "      <th>0</th>\n",
       "      <td>R1</td>\n",
       "      <td>Delhi-NCR</td>\n",
       "      <td>21</td>\n",
       "      <td>2.0</td>\n",
       "      <td>Good</td>\n",
       "      <td>Laptop/Desktop</td>\n",
       "      <td>4.0</td>\n",
       "      <td>0.0</td>\n",
       "      <td>7.0</td>\n",
       "      <td>3.0</td>\n",
       "      <td>Linkedin</td>\n",
       "      <td>1.0</td>\n",
       "      <td>4</td>\n",
       "      <td>Increased</td>\n",
       "      <td>NO</td>\n",
       "      <td>Cooking</td>\n",
       "      <td>YES</td>\n",
       "      <td>YES</td>\n",
       "      <td>School/college</td>\n",
       "    </tr>\n",
       "    <tr>\n",
       "      <th>1</th>\n",
       "      <td>R2</td>\n",
       "      <td>Delhi-NCR</td>\n",
       "      <td>21</td>\n",
       "      <td>0.0</td>\n",
       "      <td>Excellent</td>\n",
       "      <td>Smartphone</td>\n",
       "      <td>0.0</td>\n",
       "      <td>2.0</td>\n",
       "      <td>10.0</td>\n",
       "      <td>3.0</td>\n",
       "      <td>Youtube</td>\n",
       "      <td>0.0</td>\n",
       "      <td>3</td>\n",
       "      <td>Decreased</td>\n",
       "      <td>NO</td>\n",
       "      <td>Social Media</td>\n",
       "      <td>YES</td>\n",
       "      <td>NO</td>\n",
       "      <td>Passing Time Outside</td>\n",
       "    </tr>\n",
       "    <tr>\n",
       "      <th>2</th>\n",
       "      <td>R3</td>\n",
       "      <td>Delhi-NCR</td>\n",
       "      <td>20</td>\n",
       "      <td>7.0</td>\n",
       "      <td>Very poor</td>\n",
       "      <td>Laptop/Desktop</td>\n",
       "      <td>3.0</td>\n",
       "      <td>0.0</td>\n",
       "      <td>6.0</td>\n",
       "      <td>2.0</td>\n",
       "      <td>Linkedin</td>\n",
       "      <td>0.0</td>\n",
       "      <td>3</td>\n",
       "      <td>Remain Constant</td>\n",
       "      <td>NO</td>\n",
       "      <td>Music</td>\n",
       "      <td>NO</td>\n",
       "      <td>YES</td>\n",
       "      <td>Travelling</td>\n",
       "    </tr>\n",
       "    <tr>\n",
       "      <th>3</th>\n",
       "      <td>R4</td>\n",
       "      <td>Delhi-NCR</td>\n",
       "      <td>20</td>\n",
       "      <td>3.0</td>\n",
       "      <td>Very poor</td>\n",
       "      <td>Smartphone</td>\n",
       "      <td>2.0</td>\n",
       "      <td>1.0</td>\n",
       "      <td>6.0</td>\n",
       "      <td>5.0</td>\n",
       "      <td>Instagram</td>\n",
       "      <td>0.0</td>\n",
       "      <td>3</td>\n",
       "      <td>Decreased</td>\n",
       "      <td>NO</td>\n",
       "      <td>Internet Surfing</td>\n",
       "      <td>NO</td>\n",
       "      <td>NO</td>\n",
       "      <td>Friends/Relatives/Family</td>\n",
       "    </tr>\n",
       "    <tr>\n",
       "      <th>4</th>\n",
       "      <td>R5</td>\n",
       "      <td>Delhi-NCR</td>\n",
       "      <td>21</td>\n",
       "      <td>3.0</td>\n",
       "      <td>Good</td>\n",
       "      <td>Laptop/Desktop</td>\n",
       "      <td>3.0</td>\n",
       "      <td>1.0</td>\n",
       "      <td>8.0</td>\n",
       "      <td>3.0</td>\n",
       "      <td>Instagram</td>\n",
       "      <td>1.0</td>\n",
       "      <td>4</td>\n",
       "      <td>Remain Constant</td>\n",
       "      <td>NO</td>\n",
       "      <td>Social Media</td>\n",
       "      <td>NO</td>\n",
       "      <td>NO</td>\n",
       "      <td>Travelling</td>\n",
       "    </tr>\n",
       "  </tbody>\n",
       "</table>\n",
       "</div>"
      ],
      "text/plain": [
       "   ID     region  age  time_online_class rating_online_class          medium  \\\n",
       "0  R1  Delhi-NCR   21                2.0                Good  Laptop/Desktop   \n",
       "1  R2  Delhi-NCR   21                0.0           Excellent      Smartphone   \n",
       "2  R3  Delhi-NCR   20                7.0           Very poor  Laptop/Desktop   \n",
       "3  R4  Delhi-NCR   20                3.0           Very poor      Smartphone   \n",
       "4  R5  Delhi-NCR   21                3.0                Good  Laptop/Desktop   \n",
       "\n",
       "   time_self_study  time_fitness  time_sleep  time_social_media  \\\n",
       "0              4.0           0.0         7.0                3.0   \n",
       "1              0.0           2.0        10.0                3.0   \n",
       "2              3.0           0.0         6.0                2.0   \n",
       "3              2.0           1.0         6.0                5.0   \n",
       "4              3.0           1.0         8.0                3.0   \n",
       "\n",
       "  prefered_social_media  time_tv  num_meals_per_day     delta_weight  \\\n",
       "0              Linkedin      1.0                  4        Increased   \n",
       "1               Youtube      0.0                  3        Decreased   \n",
       "2              Linkedin      0.0                  3  Remain Constant   \n",
       "3             Instagram      0.0                  3        Decreased   \n",
       "4             Instagram      1.0                  4  Remain Constant   \n",
       "\n",
       "  health_issue_in_lockdown    stress_busters time_utilized  \\\n",
       "0                       NO           Cooking           YES   \n",
       "1                       NO      Social Media           YES   \n",
       "2                       NO             Music            NO   \n",
       "3                       NO  Internet Surfing            NO   \n",
       "4                       NO      Social Media            NO   \n",
       "\n",
       "  more_family_connected                 miss_most  \n",
       "0                   YES            School/college  \n",
       "1                    NO      Passing Time Outside  \n",
       "2                   YES                Travelling  \n",
       "3                    NO  Friends/Relatives/Family  \n",
       "4                    NO                Travelling  "
      ]
     },
     "execution_count": 40,
     "metadata": {},
     "output_type": "execute_result"
    }
   ],
   "source": [
    "df.head()"
   ]
  },
  {
   "cell_type": "markdown",
   "id": "68f2c18b",
   "metadata": {},
   "source": [
    "## Exploratory Analysis & Visualizations - EDA"
   ]
  },
  {
   "cell_type": "markdown",
   "id": "0ef2518e",
   "metadata": {},
   "source": [
    "### 1 Region wise Distribution on students"
   ]
  },
  {
   "cell_type": "code",
   "execution_count": 41,
   "id": "4f4ee22b",
   "metadata": {},
   "outputs": [
    {
     "data": {
      "text/plain": [
       "Delhi-NCR            721\n",
       "Outside Delhi-NCR    461\n",
       "Name: region, dtype: int64"
      ]
     },
     "execution_count": 41,
     "metadata": {},
     "output_type": "execute_result"
    }
   ],
   "source": [
    "# Checking value counts for 'Region' column to find out the region wise distribution of students.\n",
    "\n",
    "df['region'].value_counts()"
   ]
  },
  {
   "cell_type": "markdown",
   "id": "9d8512f9",
   "metadata": {},
   "source": [
    "### Observations\n",
    " - 'Region ' column has total two types of values Delhi-NCR and Outside Delhi-NCR.\n",
    " -  So basically our students are from 2 different region"
   ]
  },
  {
   "cell_type": "code",
   "execution_count": 42,
   "id": "7fcde6dc",
   "metadata": {},
   "outputs": [
    {
     "data": {
      "text/plain": [
       "Text(0.5, 1.0, 'region')"
      ]
     },
     "execution_count": 42,
     "metadata": {},
     "output_type": "execute_result"
    },
    {
     "data": {
      "image/png": "[encoded data removed]",
      "text/plain": [
       "<Figure size 360x360 with 1 Axes>"
      ]
     },
     "metadata": {},
     "output_type": "display_data"
    }
   ],
   "source": [
    "plt.figure(figsize=(5,5)) # Plotting a graph\n",
    "df['region'].value_counts().plot(kind = \"pie\" ,autopct='%1.1f%%')\n",
    "plt.title('region' , size = 25)"
   ]
  },
  {
   "cell_type": "markdown",
   "id": "a7bdb705",
   "metadata": {},
   "source": [
    "**Observations :**\n",
    " - There are total **61%** of students from **Delhi-NCR** region.\n",
    " - There are total **39%** of students from **Outside Delhi-NCR** region."
   ]
  },
  {
   "cell_type": "markdown",
   "id": "642c5a62",
   "metadata": {},
   "source": [
    "### 2 Agewise distribution of students."
   ]
  },
  {
   "cell_type": "code",
   "execution_count": 43,
   "id": "f3e39c3e",
   "metadata": {},
   "outputs": [
    {
     "data": {
      "image/png": "[encoded data removed]",
      "text/plain": [
       "<Figure size 1296x576 with 1 Axes>"
      ]
     },
     "metadata": {
      "needs_background": "light"
     },
     "output_type": "display_data"
    }
   ],
   "source": [
    "plt.figure(figsize=(18, 8))\n",
    "sns.set(style='darkgrid')\n",
    "plot1 = sns.countplot(x='age', data=df, palette= 'Dark2')\n",
    "plt.title('Age Distribution', size= 20)\n",
    "plt.xlabel('Age groups', weight='bold')\n",
    "plt.ylabel('Number of students', weight='bold')\n",
    "plt.show()"
   ]
  },
  {
   "cell_type": "markdown",
   "id": "338afdc6",
   "metadata": {},
   "source": [
    "**Observations :**\n",
    " - We Can immediately see that most of the students answered the survey fall in the category of 13-25.\n",
    " - Also we can see that Highest number of students are 20 years old, so maybe they are in college and universities.\n",
    " - There are even students from age 40 to 59."
   ]
  },
  {
   "cell_type": "markdown",
   "id": "643e5bdb",
   "metadata": {},
   "source": [
    "### 3. Online class rating distribution"
   ]
  },
  {
   "cell_type": "code",
   "execution_count": 44,
   "id": "2ad00339",
   "metadata": {},
   "outputs": [
    {
     "data": {
      "text/plain": [
       "array(['Good', 'Excellent', 'Very poor', 'Average', 'Poor'], dtype=object)"
      ]
     },
     "execution_count": 44,
     "metadata": {},
     "output_type": "execute_result"
    }
   ],
   "source": [
    "df['rating_online_class'].unique()"
   ]
  },
  {
   "cell_type": "code",
   "execution_count": 45,
   "id": "66c66255",
   "metadata": {},
   "outputs": [
    {
     "data": {
      "text/plain": [
       "Very poor    437\n",
       "Average      387\n",
       "Good         230\n",
       "Excellent     98\n",
       "Poor          30\n",
       "Name: rating_online_class, dtype: int64"
      ]
     },
     "execution_count": 45,
     "metadata": {},
     "output_type": "execute_result"
    }
   ],
   "source": [
    "df['rating_online_class'].value_counts()"
   ]
  },
  {
   "cell_type": "code",
   "execution_count": 46,
   "id": "1fbf4d24",
   "metadata": {},
   "outputs": [
    {
     "data": {
      "image/png": "[encoded data removed]",
      "text/plain": [
       "<Figure size 360x360 with 1 Axes>"
      ]
     },
     "metadata": {},
     "output_type": "display_data"
    }
   ],
   "source": [
    "plt.figure(figsize=(5,5))\n",
    "sns.histplot(df, x = df['rating_online_class'], color = 'midnightblue')\n",
    "plt.title('Ratings for online class',weight='bold', size = 20)\n",
    "plt.xlabel('Ratings',weight='bold')\n",
    "plt.ylabel('No. of students',weight='bold')\n",
    "plt.show()"
   ]
  },
  {
   "cell_type": "markdown",
   "id": "4d7bfda7",
   "metadata": {},
   "source": [
    "**Observations :**"
   ]
  },
  {
   "cell_type": "markdown",
   "id": "10d9a725",
   "metadata": {},
   "source": [
    " - We have exactly **437** students who states that the class is being held is very poor.\n",
    " - Below that we have **387** students who states that the class is Average.\n",
    " - 30 students says its poor.\n",
    " - Apart from this **230** students & **98** student says their class is good and excellent repectively."
   ]
  },
  {
   "cell_type": "markdown",
   "id": "d3bfeb54",
   "metadata": {},
   "source": [
    "### 4.Time spent on study :"
   ]
  },
  {
   "cell_type": "code",
   "execution_count": 49,
   "id": "443d6ea7",
   "metadata": {},
   "outputs": [
    {
     "data": {
      "image/png": "[encoded data removed]",
      "text/plain": [
       "<Figure size 720x576 with 1 Axes>"
      ]
     },
     "metadata": {},
     "output_type": "display_data"
    }
   ],
   "source": [
    "plt.figure(figsize=(10,8))\n",
    "sns.histplot(df, x = df['time_self_study'], color = 'hotpink')\n",
    "plt.title('Time spent on selft study',weight='bold', size = 14)\n",
    "plt.xlabel('Hours',weight='bold')\n",
    "plt.ylabel('Number of students',weight='bold')\n",
    "plt.show()"
   ]
  },
  {
   "cell_type": "markdown",
   "id": "f68efbcd",
   "metadata": {},
   "source": [
    "#### Observations :"
   ]
  },
  {
   "cell_type": "markdown",
   "id": "7c1c0f64",
   "metadata": {},
   "source": [
    " - Around 1 to 3 hours students averagly spend on their studies.\n",
    " - We have **346** students who spends 2 hours on their studies. These are must be self aware students of the university/college.\n",
    " - There are students who spends more than 5/7 hours on studies.\n",
    " - There are 15 students who spends 10 hours on self studies. 5 students spends 12 hours.\n",
    " - Lastly we see there are two students who spends 17, 18 hours on self studies respectively."
   ]
  },
  {
   "cell_type": "markdown",
   "id": "5ff27e62",
   "metadata": {},
   "source": [
    "### 5. Popular social media platforms :"
   ]
  },
  {
   "cell_type": "code",
   "execution_count": 50,
   "id": "d46f9763",
   "metadata": {},
   "outputs": [
    {
     "data": {
      "image/png": "[encoded data removed]",
      "text/plain": [
       "<Figure size 720x576 with 1 Axes>"
      ]
     },
     "metadata": {},
     "output_type": "display_data"
    }
   ],
   "source": [
    "plt.figure(figsize=(10,8))\n",
    "sns.histplot(df, y = df['prefered_social_media'], color = 'peru')\n",
    "plt.title('prefered_social_media',weight='bold',size = 15)\n",
    "plt.xlabel('Total users'  ,weight='bold')\n",
    "plt.ylabel('Social medias',weight='bold')\n",
    "plt.show()"
   ]
  },
  {
   "cell_type": "markdown",
   "id": "bf351685",
   "metadata": {},
   "source": [
    "**Observation:**\n",
    "\n",
    " - We can see there are total 14 social media platforms are popular among students.\n",
    " - We will choose the top 5 - the most used platforms by students.\n",
    " - That would be easy for analysis."
   ]
  },
  {
   "cell_type": "code",
   "execution_count": 51,
   "id": "7b9a42b8",
   "metadata": {},
   "outputs": [
    {
     "data": {
      "text/plain": [
       "Instagram    352\n",
       "WhatsApp     337\n",
       "Youtube      314\n",
       "Linkedin      61\n",
       "Facebook      52\n",
       "Name: prefered_social_media, dtype: int64"
      ]
     },
     "execution_count": 51,
     "metadata": {},
     "output_type": "execute_result"
    }
   ],
   "source": [
    "top5_social = df['prefered_social_media'].value_counts().nlargest(5)\n",
    "top5_social"
   ]
  },
  {
   "cell_type": "markdown",
   "id": "517a7dd0",
   "metadata": {},
   "source": [
    "### 6. Top 5 Social media platforms "
   ]
  },
  {
   "cell_type": "code",
   "execution_count": 53,
   "id": "d81f6442",
   "metadata": {},
   "outputs": [
    {
     "data": {
      "image/png": "[encoded data removed]",
      "text/plain": [
       "<Figure size 576x432 with 1 Axes>"
      ]
     },
     "metadata": {},
     "output_type": "display_data"
    }
   ],
   "source": [
    "per = top5_social*100   ## Taking percentage.....\n",
    "per /= top5_social.sum()\n",
    "\n",
    "\n",
    "plt.figure(figsize=(8,6))\n",
    "sns.barplot(data = df, x = per , y = per.index)\n",
    "plt.title('Top 5 social media platforms among students',weight='bold', size = 15)\n",
    "plt.xlabel('Percentage'  ,weight='bold')\n",
    "plt.ylabel('Social Medias',weight='bold')\n",
    "plt.show()"
   ]
  },
  {
   "cell_type": "markdown",
   "id": "3c6fe301",
   "metadata": {},
   "source": [
    "**Observation:**"
   ]
  },
  {
   "cell_type": "markdown",
   "id": "bc729653",
   "metadata": {},
   "source": [
    " - As we obsereved earlier, more than 31 % students prefer using Instagram.\n",
    " - Also Usage of WhatsApp is also about 30 % as this platform helps them to connect with friends and family easily.\n",
    " - Now YouTube is 3rd in the list, although it is not considered a well-defined social media but many students are sharing          thier artworks."
   ]
  },
  {
   "cell_type": "markdown",
   "id": "fb46e3b4",
   "metadata": {},
   "source": [
    "### 6.Time spend on social media :"
   ]
  },
  {
   "cell_type": "code",
   "execution_count": 54,
   "id": "71f4c7fd",
   "metadata": {},
   "outputs": [
    {
     "data": {
      "image/png": "[encoded data removed]",
      "text/plain": [
       "<Figure size 864x432 with 1 Axes>"
      ]
     },
     "metadata": {},
     "output_type": "display_data"
    }
   ],
   "source": [
    "plt.figure(figsize = (12,6))\n",
    "sns.scatterplot(data = df, x = 'age', y = 'time_social_media', hue='prefered_social_media' ,s =160,palette ='rainbow')\n",
    "plt.title('Time spend on social medias',weight='bold',size = 18)\n",
    "plt.xlabel('students of age'  ,weight='bold')\n",
    "plt.ylabel('Time spent',weight='bold')\n",
    "plt.legend(markerscale = 1.5)\n",
    "plt.show()"
   ]
  },
  {
   "cell_type": "markdown",
   "id": "0e5cc57e",
   "metadata": {},
   "source": [
    "### Observation:\n",
    " - Age group from 12 to 25 seems to be spending a lot of time on social media during covid-19.\n",
    " - There are people who actually spends 10 hours on social medias.\n",
    " - 10 hours is the most highest time spend on social media, among youngsters.\n",
    " - Even there are people of age 27 to 34 spending time 7 to 8 hours on these medias.\n",
    " "
   ]
  },
  {
   "cell_type": "markdown",
   "id": "a93ce8b5",
   "metadata": {},
   "source": [
    "### 7. Time spent on self study :"
   ]
  },
  {
   "cell_type": "code",
   "execution_count": 55,
   "id": "b4faf542",
   "metadata": {},
   "outputs": [
    {
     "data": {
      "image/png": "[encoded data removed]",
      "text/plain": [
       "<Figure size 864x432 with 1 Axes>"
      ]
     },
     "metadata": {},
     "output_type": "display_data"
    }
   ],
   "source": [
    "plt.figure(figsize = (12,6))\n",
    "sns.scatterplot(data = df, x = 'age', y = 'time_self_study', hue='time_self_study' ,s =160,palette ='rainbow_r')\n",
    "plt.title(' time_self_study',weight='bold',size = 18)\n",
    "plt.xlabel('students of age'  ,weight='bold')\n",
    "plt.ylabel('Time spent',weight='bold')\n",
    "plt.legend(markerscale = 1.5)\n",
    "plt.show()"
   ]
  },
  {
   "cell_type": "markdown",
   "id": "26f5df9d",
   "metadata": {},
   "source": [
    "### Observation:"
   ]
  },
  {
   "cell_type": "markdown",
   "id": "da603269",
   "metadata": {},
   "source": [
    " - Average time spent on studies is 2-3 hours.\n",
    " - Students under age of 15 to 25 spends most time on their studies.\n",
    " - Heighest time spent on the self studies is 17-18 hours.\n",
    " - Even people of age 30 to 40 spends 4 to 5 hours on self studies."
   ]
  },
  {
   "cell_type": "markdown",
   "id": "b4dcff32",
   "metadata": {},
   "source": [
    "### 8. Do students find themselves MORE Connected with their Family/Close Frinds ?"
   ]
  },
  {
   "cell_type": "code",
   "execution_count": 56,
   "id": "8a77d15c",
   "metadata": {},
   "outputs": [
    {
     "data": {
      "text/plain": [
       "YES    831\n",
       "NO     351\n",
       "Name: more_family_connected, dtype: int64"
      ]
     },
     "execution_count": 56,
     "metadata": {},
     "output_type": "execute_result"
    }
   ],
   "source": [
    "\n",
    "df['more_family_connected'].value_counts()"
   ]
  },
  {
   "cell_type": "code",
   "execution_count": 57,
   "id": "29722761",
   "metadata": {},
   "outputs": [
    {
     "data": {
      "text/plain": [
       "Text(0.5, 1.0, 'more_family_connected')"
      ]
     },
     "execution_count": 57,
     "metadata": {},
     "output_type": "execute_result"
    },
    {
     "data": {
      "image/png": "[encoded data removed]",
      "text/plain": [
       "<Figure size 360x360 with 1 Axes>"
      ]
     },
     "metadata": {},
     "output_type": "display_data"
    }
   ],
   "source": [
    "plt.figure(figsize=(5,5)) # Plotting a graph\n",
    "df['more_family_connected'].value_counts().plot(kind = \"pie\" ,autopct='%1.1f%%')\n",
    "plt.title('more_family_connected',weight='bold',size = 15)"
   ]
  },
  {
   "cell_type": "markdown",
   "id": "741628fb",
   "metadata": {},
   "source": [
    "#### Observation:\n",
    "- 70.3% people says YES, they do feel connected with the family/friends.\n",
    "- 29.7 almost 30% are not satisfied, their answer is NO."
   ]
  },
  {
   "cell_type": "markdown",
   "id": "7d5400b0",
   "metadata": {},
   "source": [
    "### 9. How many students think they utilize their time"
   ]
  },
  {
   "cell_type": "code",
   "execution_count": 58,
   "id": "bbfad75e",
   "metadata": {},
   "outputs": [
    {
     "data": {
      "text/plain": [
       "NO     608\n",
       "YES    574\n",
       "Name: time_utilized, dtype: int64"
      ]
     },
     "execution_count": 58,
     "metadata": {},
     "output_type": "execute_result"
    }
   ],
   "source": [
    "df['time_utilized'].value_counts()"
   ]
  },
  {
   "cell_type": "code",
   "execution_count": 59,
   "id": "145313d4",
   "metadata": {},
   "outputs": [
    {
     "data": {
      "text/plain": [
       "Text(0.5, 1.0, 'time_utilized')"
      ]
     },
     "execution_count": 59,
     "metadata": {},
     "output_type": "execute_result"
    },
    {
     "data": {
      "image/png": "[encoded data removed]",
      "text/plain": [
       "<Figure size 360x360 with 1 Axes>"
      ]
     },
     "metadata": {},
     "output_type": "display_data"
    }
   ],
   "source": [
    "plt.figure(figsize=(5,5)) # Plotting a graph\n",
    "df['time_utilized'].value_counts().plot(kind = \"pie\" ,autopct='%1.1f%%')\n",
    "plt.title('time_utilized',weight='bold',size = 15)"
   ]
  },
  {
   "cell_type": "markdown",
   "id": "372c953c",
   "metadata": {},
   "source": [
    "#### Observation:"
   ]
  },
  {
   "cell_type": "markdown",
   "id": "0e4047ab",
   "metadata": {},
   "source": [
    " - It is a good thing that close to 50 % students think that they are utilising their time"
   ]
  },
  {
   "cell_type": "markdown",
   "id": "184db084",
   "metadata": {},
   "source": [
    "### 10.What students are missing most during covid-19 :"
   ]
  },
  {
   "cell_type": "code",
   "execution_count": 60,
   "id": "c29dfb3d",
   "metadata": {},
   "outputs": [],
   "source": [
    "per = df['miss_most'].value_counts()*100/df['miss_most'].value_counts().sum()"
   ]
  },
  {
   "cell_type": "code",
   "execution_count": 61,
   "id": "7682af7c",
   "metadata": {},
   "outputs": [
    {
     "data": {
      "image/png": "[encoded data removed]",
      "text/plain": [
       "<Figure size 576x432 with 1 Axes>"
      ]
     },
     "metadata": {},
     "output_type": "display_data"
    }
   ],
   "source": [
    "plt.figure(figsize=(8,6))\n",
    "sns.barplot(data = df, x = per , y = per.index)\n",
    "plt.title('What students are missing during covid-19',weight='bold')\n",
    "plt.xlabel('Percentage'  ,weight='bold')\n",
    "plt.ylabel('Features',weight='bold')\n",
    "plt.show()"
   ]
  },
  {
   "cell_type": "markdown",
   "id": "46b9cc57",
   "metadata": {},
   "source": [
    "#### Observation:"
   ]
  },
  {
   "cell_type": "markdown",
   "id": "1b4e6871",
   "metadata": {},
   "source": [
    " - So the 33% of the overall data, students are missing their schools & colleges.\n",
    " - Then 19% students are missing their Friends and family or relatives.\n",
    " - There are 9% - 14% students who are eating outside or missing Passing time outside we can say in a straight manner.\n",
    " - 5.6% students miss their colleagues.\n",
    " - Lastly we see 2.19% students who claims they are missing Nothing.\n",
    " - Same percentile of students who claims they are missing All."
   ]
  },
  {
   "cell_type": "markdown",
   "id": "7c0d2fe5",
   "metadata": {},
   "source": [
    "### 11.Effects of pandemic on student's weights :"
   ]
  },
  {
   "cell_type": "code",
   "execution_count": 62,
   "id": "e43438cd",
   "metadata": {},
   "outputs": [
    {
     "data": {
      "text/plain": [
       "array(['Increased', 'Decreased', 'Remain Constant'], dtype=object)"
      ]
     },
     "execution_count": 62,
     "metadata": {},
     "output_type": "execute_result"
    }
   ],
   "source": [
    "df['delta_weight'].unique()\n",
    " "
   ]
  },
  {
   "cell_type": "code",
   "execution_count": 63,
   "id": "1c2b1d68",
   "metadata": {},
   "outputs": [
    {
     "data": {
      "text/plain": [
       "Remain Constant    535\n",
       "Increased          438\n",
       "Decreased          209\n",
       "Name: delta_weight, dtype: int64"
      ]
     },
     "execution_count": 63,
     "metadata": {},
     "output_type": "execute_result"
    }
   ],
   "source": [
    "df['delta_weight'].value_counts()"
   ]
  },
  {
   "cell_type": "code",
   "execution_count": 64,
   "id": "b6e254f2",
   "metadata": {},
   "outputs": [
    {
     "data": {
      "text/plain": [
       "Text(0.5, 1.0, 'delta_weight')"
      ]
     },
     "execution_count": 64,
     "metadata": {},
     "output_type": "execute_result"
    },
    {
     "data": {
      "image/png": "[encoded data removed]",
      "text/plain": [
       "<Figure size 360x360 with 1 Axes>"
      ]
     },
     "metadata": {},
     "output_type": "display_data"
    }
   ],
   "source": [
    "plt.figure(figsize=(5,5)) # Plotting a graph\n",
    "df['delta_weight'].value_counts().plot(kind = \"pie\" ,autopct='%1.1f%%')\n",
    "plt.title('delta_weight',weight='bold', size = 25)"
   ]
  },
  {
   "cell_type": "markdown",
   "id": "97c9875b",
   "metadata": {},
   "source": [
    "#### Observation :\n",
    " - 45.3% students claims there is no gain in their weight during lockdown/covid-19.\n",
    " - 37.1% students claims they do have gained weight.\n",
    " - 17.7% says they have lost their weight."
   ]
  },
  {
   "cell_type": "markdown",
   "id": "b78683d0",
   "metadata": {},
   "source": [
    "### 12.Student's favourite stress busters :"
   ]
  },
  {
   "cell_type": "code",
   "execution_count": 65,
   "id": "50c2e212",
   "metadata": {},
   "outputs": [
    {
     "data": {
      "text/plain": [
       "array(['Cooking', 'Social Media', 'Music', 'Internet Surfing',\n",
       "       'Many Things', 'Doing Extra Activities', 'Online gaming',\n",
       "       'Talking', 'Sleeping', 'Exercise/Gym'], dtype=object)"
      ]
     },
     "execution_count": 65,
     "metadata": {},
     "output_type": "execute_result"
    }
   ],
   "source": [
    "df['stress_busters'].unique()"
   ]
  },
  {
   "cell_type": "code",
   "execution_count": 66,
   "id": "4367c1eb",
   "metadata": {},
   "outputs": [],
   "source": [
    "labels = df['stress_busters'].value_counts()"
   ]
  },
  {
   "cell_type": "code",
   "execution_count": 67,
   "id": "c2862754",
   "metadata": {},
   "outputs": [
    {
     "data": {
      "text/plain": [
       "Text(0, 0.5, 'Features')"
      ]
     },
     "execution_count": 67,
     "metadata": {},
     "output_type": "execute_result"
    },
    {
     "data": {
      "image/png": "[encoded data removed]",
      "text/plain": [
       "<Figure size 576x432 with 1 Axes>"
      ]
     },
     "metadata": {},
     "output_type": "display_data"
    }
   ],
   "source": [
    "plt.figure(figsize=(8,6))\n",
    "sns.barplot(data = df, x = labels , y = labels.index)\n",
    "plt.title('Stress busters of students',weight='bold',size = 25)\n",
    "plt.xlabel('Count' ,weight='bold')\n",
    "plt.ylabel('Features',weight='bold')"
   ]
  },
  {
   "cell_type": "markdown",
   "id": "869b5744",
   "metadata": {},
   "source": [
    "**Observation :**\n",
    " - As we all know that Music heals our body, mind, soul and spirit, so it is quite expected that most students rely on Music to    overcome their stress.\n",
    " - Now during these times many students too over some hobbies which are represented by 'Doing Extra Activities' which helped        them to overcome stress such as drawing, writing, sketching etc. that is why it may be second on the list\n",
    " - Also Internet Surfing is third on list which suggests that their are many students who surf the internet and look for more      information and entertainment sources to bust their stress\n",
    " - During the pandemic many kind of Online games have gained popularity like PUBG, Among Us, Getting Over It etc. So it is clear    that many students used these Online games to lower down their stress levels."
   ]
  },
  {
   "cell_type": "markdown",
   "id": "30ded3ae",
   "metadata": {},
   "source": [
    "_______________________________________________________________________________________________________________________________"
   ]
  },
  {
   "cell_type": "markdown",
   "id": "6cfd9620",
   "metadata": {},
   "source": [
    "## Inferences and Conclusion\n",
    "Here is summary of all the inferences drawn from this analysis, and any conclusions we have drawn by answering various questions:\n",
    "\n",
    " - Based on survey we see that most of the students answered the survey fall in the category of 15-25 which is basically the        best phase of a student's life.\n",
    " - We Also went on the rating of online classes according to students which resulted not so good because almost 75% students are    saying that Online Classes are not Good Enough.\n",
    " - According to the basic analysis close to 50 % students think that they are utilising their time which is quite good.\n",
    " - We did quite a long analysis on Time Spend by students which mainly suggested that the timeline of students is distorted due    to Covid-19 Pandemic and they are not able to enjoy their life as they would've if there was not pandemic.\n",
    " - We also found out that students are not being able to give time to studies neither online classes nor self-study.\n",
    " - Now in Social Media prespective we found that Instagram and WhatsApp are the most popular among Students which is quite          expected and not that bizzare.\n",
    " - Due to pandemic majority of the students feel more connected to their family/close friends because lockdown has given them      opportunity to spend quality time with them which was not that high during normal times.\n",
    " - According to the data Students are missing School and College the most (more than 30%). Morevover about 20% students are        missing their families, friends and relatives, this suggests that many students are separated from their families, friends      and relatives due to pandemic.\n",
    " - We Also found out that about 45% students reported no change in their weight whereas 37% reported a weight gain and 18%          students reported weight loss.\n",
    " - Finally we infer that Music is the best Stress-Busters among students followed by Extra-Activities such as drawing, writing,    sketching etc. and then Internet Surfing is third on list for entertainment sources, also Online Gaming have also gained        popularity among students for beating stress."
   ]
  }
 ],
 "metadata": {
  "kernelspec": {
   "display_name": "Python 3 (ipykernel)",
   "language": "python",
   "name": "python3"
  },
  "language_info": {
   "codemirror_mode": {
    "name": "ipython",
    "version": 3
   },
   "file_extension": ".py",
   "mimetype": "text/x-python",
   "name": "python",
   "nbconvert_exporter": "python",
   "pygments_lexer": "ipython3",
   "version": "3.9.12"
  }
 },
 "nbformat": 4,
 "nbformat_minor": 5
}
